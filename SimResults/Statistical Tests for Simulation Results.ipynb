{
 "cells": [
  {
   "cell_type": "code",
   "execution_count": 2,
   "metadata": {},
   "outputs": [],
   "source": [
    "import pandas as pd\n",
    "import numpy as np\n",
    "import scipy\n",
    "import random as rd\n",
    "import matplotlib.pyplot as plt\n",
    "import seaborn as sns\n",
    "%matplotlib inline\n"
   ]
  },
  {
   "cell_type": "markdown",
   "metadata": {},
   "source": [
    "# Extract for T-test"
   ]
  },
  {
   "cell_type": "markdown",
   "metadata": {},
   "source": [
    "Objective: create a table displaying the mean/median gini coefficients for all simulation scenarios\n",
    "\n",
    "Get gini coef stats: mead / median / std.dev / distribution\n",
    "\n",
    "But first! Create a big df with all simulation outputs:\n",
    "a) total views, average views, median views, stdev views, Q1, Q3, total ratings, avg"
   ]
  },
  {
   "cell_type": "code",
   "execution_count": 3,
   "metadata": {},
   "outputs": [],
   "source": [
    "def load_basic(s,path,file_name,consumer,ifilter,simulations,steps,percentage):\n",
    "    df00 = pd.read_pickle(path+file_name+'/'+consumer+str(percentage)+'/'+str([s[0],s[1],ifilter,simulations]))\n",
    "    df0 = get_basics(df00)\n",
    "    df0['u_size'] = [s[0]]*len(df0)\n",
    "    df0['p_size'] = [s[1]]*len(df0)\n",
    "    df0['filter'] = [ifilter]*len(df0)\n",
    "    df0['u_cogni'] = [consumer]*len(df0)\n",
    "    df0['steps'] = [steps]*len(df0)\n",
    "    return df0\n",
    "    \n",
    "def get_basics(df):\n",
    "    df2 = df#[M.columns[:-2]]\\n\"\n",
    "    viewstats = {'mean':[],'median':[],'std':[],'total':[],'minmax':[]}\n",
    "    ratingstats = {'mean':[],'median':[],'std':[],'total':[],'minmax':[]}\n",
    "    \n",
    "    for i in df2.values:\n",
    "            raw_views = []\n",
    "            raw_rating_mean = []\n",
    "            for j in i:\n",
    "                raw_views.append(float(len(j)))\n",
    "                raw_rating_mean.append(np.mean(j))       #Mind we take totals for views and mean for ratings\\n\",\n",
    "            #Get mean, median, stdev, q1, q3, \\n\",\n",
    "            viewstats = update_stats(viewstats,raw_views)\n",
    "            ratingstats = update_stats(ratingstats,raw_rating_mean)\n",
    "            c,bins,gini = G(np.array(raw_views))\n",
    "            viewstats['gini'] = gini\n",
    "            c,bins,gini = G(np.array(raw_rating_mean))\n",
    "            ratingstats['gini'] = gini\n",
    "        \n",
    "            dfv = pd.DataFrame()\n",
    "            for k in ['mean','median','std','total','minmax','gini']:\n",
    "                dfv['v_'+str(k)] = viewstats[str(k)]\n",
    "            for k in ['mean','median','std','total','minmax','gini']:\n",
    "                dfv['r_'+str(k)] = ratingstats[str(k)]\n",
    "            \n",
    "            return dfv\n",
    "        \n",
    "        \n",
    "def plot_basic(dfv):\n",
    "    gg = sns.jointplot(x='views',y='rating',data=dfv)\n",
    "    plt.show()\n",
    "\n",
    "    dfv = dfv.sort_values(by='rating',ascending=False)\n",
    "    plt.plot(list(dfv.rating),linewidth=2,alpha=0.5,c='r',label='Rating')\n",
    "    plt.legend()\n",
    "    plt.show() \n",
    "    dfv = dfv.sort_values(by='views',ascending=False)\n",
    "    plt.plot(list(dfv.views),linewidth=2,alpha=0.5,c='b',label='Views')\n",
    "    plt.legend()\n",
    "    plt.show()\n",
    "\n",
    "    return dfv\n",
    "\n",
    "def update_stats(dct,raw_list):\n",
    "    dct['mean'].append(np.mean(raw_list))\n",
    "    dct['median'].append(np.median(raw_list))\n",
    "    dct['std'].append(np.std(raw_list))\n",
    "    dct['total'].append(len(raw_list))\n",
    "    dct['minmax'].append([min(raw_list),max(raw_list)])\n",
    "    return dct\n",
    "\n",
    "def get_gini(df2):\n",
    "    views_sim = {}\n",
    "    id_ = 0\n",
    "    for vals in df2.values:\n",
    "        t_views = []\n",
    "        for i in vals:\n",
    "            t_views.append(len(i))\n",
    "        views_sim[id_] = t_views\n",
    "        id_ += 1\n",
    "    gini = [G(np.array(views_sim[k]))[-1] for k in range(0,len(df2))]\n",
    "    return gini\n",
    "\n",
    "def get_parameter_filter(ifilter,parameter,df):\n",
    "    values = df[parameter]\n",
    "    v_all = []\n",
    "\n",
    "    dropped += 1\n",
    "    print(dropped)\n",
    "    return cleaned\n",
    "\n",
    "def G(v):\n",
    "    bins = np.linspace(0., 100., 11)\n",
    "    total = float(np.sum(v))\n",
    "    yvals = []\n",
    "    for b in bins:\n",
    "        bin_vals = v[v <= np.percentile(v, b)]\n",
    "        bin_fraction = (np.sum(bin_vals) / total) * 100.0\n",
    "        yvals.append(bin_fraction)\n",
    "    # perfect equality area\\n\",\n",
    "    pe_area = np.trapz(bins, x=bins)\n",
    "    # lorenz area\\n\",\n",
    "    lorenz_area = np.trapz(yvals, x=bins)\n",
    "    gini_val = (pe_area - lorenz_area) / float(pe_area)\n",
    "    return bins, yvals, gini_val\n",
    "\n",
    "def plot_gini(v):\n",
    "    bins, result, gini_val = G(v)\n",
    "    plt.figure()\n",
    "    plt.subplot(2, 1, 1)\n",
    "    plt.plot(bins, result, label=\"observed\")\n",
    "    plt.plot(bins, bins, '--', label=\"perfect eq.\")\n",
    "    plt.xlabel(\"fraction of population\")\n",
    "    plt.ylabel(\"fraction of wealth\")\n",
    "    plt.title(\"GINI: %.4f\" %(gini_val))\n",
    "    plt.legend()\n",
    "    plt.subplot(2, 1, 2)\n",
    "    plt.hist(v, bins=20)"
   ]
  },
  {
   "cell_type": "code",
   "execution_count": 5,
   "metadata": {
    "scrolled": false
   },
   "outputs": [],
   "source": [
    "### Path parameters , select simulation\n",
    "steps = 100\n",
    "consumer = 'C3'\n",
    "prcnt = 100\n",
    "ifilter = 'Sociological'\n",
    "simulations = 100\n",
    "#path = 'C:/Users/andre/OneDrive - Harrisburg University/Data/Simulations/'\n",
    "path = 'C:/Simulations/'\n",
    "file_name = ifilter+str(steps)\n",
    "sim_path = path+file_name+'/'+consumer+'/100'        #COGNITIVE EXTENSION    50 percent\n",
    "percentage = '/100'\n",
    "\n",
    "size = [[2000,400],[5000,1000],[10000,2000]]#,[20000,4000]]#,[40000,8000]]\n",
    "\n",
    "#Create dataframes from files\n",
    "for consumer in ['C3']:#,'C30','C60']:\n",
    "    df = load_basic(size[0],path,file_name,consumer,ifilter,simulations,steps,percentage)\n",
    "    for s in size[1:]:\n",
    "        dftemp = load_basic(s,path,file_name,consumer,ifilter,simulations,steps,percentage)\n",
    "        df = df.append(dftemp,ignore_index=True)\n",
    "    df.to_pickle('Results_F'+str(ifilter)+'_S'+str(steps)+'_C'+str(consumer)+'_P'+str(prcnt))\n",
    "\n",
    "\n",
    "    "
   ]
  },
  {
   "cell_type": "code",
   "execution_count": 6,
   "metadata": {
    "scrolled": true
   },
   "outputs": [
    {
     "data": {
      "image/png": "[encoded data removed]",
      "text/plain": [
       "<Figure size 432x432 with 3 Axes>"
      ]
     },
     "metadata": {
      "needs_background": "light"
     },
     "output_type": "display_data"
    },
    {
     "data": {
      "image/png": "[encoded data removed]",
      "text/plain": [
       "<Figure size 432x432 with 3 Axes>"
      ]
     },
     "metadata": {
      "needs_background": "light"
     },
     "output_type": "display_data"
    },
    {
     "data": {
      "image/png": "[encoded data removed]",
      "text/plain": [
       "<Figure size 432x432 with 3 Axes>"
      ]
     },
     "metadata": {
      "needs_background": "light"
     },
     "output_type": "display_data"
    },
    {
     "data": {
      "image/png": "[encoded data removed]",
      "text/plain": [
       "<Figure size 432x432 with 3 Axes>"
      ]
     },
     "metadata": {
      "needs_background": "light"
     },
     "output_type": "display_data"
    },
    {
     "data": {
      "image/png": "[encoded data removed]",
      "text/plain": [
       "<Figure size 432x432 with 3 Axes>"
      ]
     },
     "metadata": {
      "needs_background": "light"
     },
     "output_type": "display_data"
    }
   ],
   "source": [
    "sns.jointplot(x='v_median',y='v_gini',data=df[df['u_size']==2000])\n",
    "plt.show()\n",
    "sns.jointplot(x='v_median',y='v_gini',data=df[df['u_size']==5000])\n",
    "plt.show()\n",
    "sns.jointplot(x='v_median',y='v_gini',data=df[df['u_size']==10000])\n",
    "plt.show()\n",
    "sns.jointplot(x='v_median',y='v_gini',data=df[df['u_size']==20000])\n",
    "plt.show()\n",
    "sns.jointplot(x='v_median',y='v_gini',data=df[df['u_size']==40000])\n",
    "plt.show()"
   ]
  },
  {
   "cell_type": "markdown",
   "metadata": {},
   "source": [
    "## Part 2 - Analysis\n",
    "\n",
    "After extracting all statistics from all the simulations, proceed here. \n",
    "You should have a dataframe like this:\n"
   ]
  },
  {
   "cell_type": "code",
   "execution_count": 3,
   "metadata": {},
   "outputs": [],
   "source": [
    "import pandas as pd\n",
    "import numpy as np\n",
    "import scipy\n",
    "import random as rd\n",
    "import matplotlib.pyplot as plt\n",
    "import seaborn as sns\n",
    "%matplotlib inline\n"
   ]
  },
  {
   "cell_type": "code",
   "execution_count": 67,
   "metadata": {},
   "outputs": [
    {
     "data": {
      "text/html": [
       "<div>\n",
       "<style scoped>\n",
       "    .dataframe tbody tr th:only-of-type {\n",
       "        vertical-align: middle;\n",
       "    }\n",
       "\n",
       "    .dataframe tbody tr th {\n",
       "        vertical-align: top;\n",
       "    }\n",
       "\n",
       "    .dataframe thead th {\n",
       "        text-align: right;\n",
       "    }\n",
       "</style>\n",
       "<table border=\"1\" class=\"dataframe\">\n",
       "  <thead>\n",
       "    <tr style=\"text-align: right;\">\n",
       "      <th></th>\n",
       "      <th>v_mean</th>\n",
       "      <th>v_median</th>\n",
       "      <th>v_std</th>\n",
       "      <th>v_total</th>\n",
       "      <th>v_minmax</th>\n",
       "      <th>v_gini</th>\n",
       "      <th>r_mean</th>\n",
       "      <th>r_median</th>\n",
       "      <th>r_std</th>\n",
       "      <th>r_total</th>\n",
       "      <th>r_minmax</th>\n",
       "      <th>r_gini</th>\n",
       "      <th>u_size</th>\n",
       "      <th>p_size</th>\n",
       "      <th>filter</th>\n",
       "      <th>u_cogni</th>\n",
       "      <th>steps</th>\n",
       "    </tr>\n",
       "  </thead>\n",
       "  <tbody>\n",
       "    <tr>\n",
       "      <th>0</th>\n",
       "      <td>249.1700</td>\n",
       "      <td>230.0</td>\n",
       "      <td>88.400911</td>\n",
       "      <td>400</td>\n",
       "      <td>[108.0, 724.0]</td>\n",
       "      <td>0.173055</td>\n",
       "      <td>0.614203</td>\n",
       "      <td>0.615249</td>\n",
       "      <td>0.021704</td>\n",
       "      <td>400</td>\n",
       "      <td>[0.5466326749436872, 0.6699810848911134]</td>\n",
       "      <td>0.019365</td>\n",
       "      <td>2000</td>\n",
       "      <td>400</td>\n",
       "      <td>None</td>\n",
       "      <td>C30</td>\n",
       "      <td>100</td>\n",
       "    </tr>\n",
       "    <tr>\n",
       "      <th>1</th>\n",
       "      <td>250.0225</td>\n",
       "      <td>222.0</td>\n",
       "      <td>92.487091</td>\n",
       "      <td>400</td>\n",
       "      <td>[111.0, 618.0]</td>\n",
       "      <td>0.191591</td>\n",
       "      <td>0.612969</td>\n",
       "      <td>0.614174</td>\n",
       "      <td>0.021964</td>\n",
       "      <td>400</td>\n",
       "      <td>[0.554688597901843, 0.6574470620387944]</td>\n",
       "      <td>0.019814</td>\n",
       "      <td>2000</td>\n",
       "      <td>400</td>\n",
       "      <td>None</td>\n",
       "      <td>C30</td>\n",
       "      <td>100</td>\n",
       "    </tr>\n",
       "    <tr>\n",
       "      <th>2</th>\n",
       "      <td>249.9500</td>\n",
       "      <td>229.0</td>\n",
       "      <td>82.957715</td>\n",
       "      <td>400</td>\n",
       "      <td>[118.0, 653.0]</td>\n",
       "      <td>0.171266</td>\n",
       "      <td>0.614046</td>\n",
       "      <td>0.613540</td>\n",
       "      <td>0.023420</td>\n",
       "      <td>400</td>\n",
       "      <td>[0.5328313872124253, 0.6822422508038966]</td>\n",
       "      <td>0.020687</td>\n",
       "      <td>2000</td>\n",
       "      <td>400</td>\n",
       "      <td>None</td>\n",
       "      <td>C30</td>\n",
       "      <td>100</td>\n",
       "    </tr>\n",
       "    <tr>\n",
       "      <th>3</th>\n",
       "      <td>250.2950</td>\n",
       "      <td>229.5</td>\n",
       "      <td>91.367297</td>\n",
       "      <td>400</td>\n",
       "      <td>[119.0, 714.0]</td>\n",
       "      <td>0.185720</td>\n",
       "      <td>0.612573</td>\n",
       "      <td>0.614710</td>\n",
       "      <td>0.022962</td>\n",
       "      <td>400</td>\n",
       "      <td>[0.5349495016697796, 0.6820610212300767]</td>\n",
       "      <td>0.020353</td>\n",
       "      <td>2000</td>\n",
       "      <td>400</td>\n",
       "      <td>None</td>\n",
       "      <td>C30</td>\n",
       "      <td>100</td>\n",
       "    </tr>\n",
       "    <tr>\n",
       "      <th>4</th>\n",
       "      <td>249.9075</td>\n",
       "      <td>229.0</td>\n",
       "      <td>83.931484</td>\n",
       "      <td>400</td>\n",
       "      <td>[115.0, 591.0]</td>\n",
       "      <td>0.178154</td>\n",
       "      <td>0.614759</td>\n",
       "      <td>0.613999</td>\n",
       "      <td>0.021924</td>\n",
       "      <td>400</td>\n",
       "      <td>[0.5431652339489057, 0.6813525687742572]</td>\n",
       "      <td>0.019626</td>\n",
       "      <td>2000</td>\n",
       "      <td>400</td>\n",
       "      <td>None</td>\n",
       "      <td>C30</td>\n",
       "      <td>100</td>\n",
       "    </tr>\n",
       "  </tbody>\n",
       "</table>\n",
       "</div>"
      ],
      "text/plain": [
       "     v_mean  v_median      v_std  v_total        v_minmax    v_gini    r_mean  \\\n",
       "0  249.1700     230.0  88.400911      400  [108.0, 724.0]  0.173055  0.614203   \n",
       "1  250.0225     222.0  92.487091      400  [111.0, 618.0]  0.191591  0.612969   \n",
       "2  249.9500     229.0  82.957715      400  [118.0, 653.0]  0.171266  0.614046   \n",
       "3  250.2950     229.5  91.367297      400  [119.0, 714.0]  0.185720  0.612573   \n",
       "4  249.9075     229.0  83.931484      400  [115.0, 591.0]  0.178154  0.614759   \n",
       "\n",
       "   r_median     r_std  r_total                                  r_minmax  \\\n",
       "0  0.615249  0.021704      400  [0.5466326749436872, 0.6699810848911134]   \n",
       "1  0.614174  0.021964      400   [0.554688597901843, 0.6574470620387944]   \n",
       "2  0.613540  0.023420      400  [0.5328313872124253, 0.6822422508038966]   \n",
       "3  0.614710  0.022962      400  [0.5349495016697796, 0.6820610212300767]   \n",
       "4  0.613999  0.021924      400  [0.5431652339489057, 0.6813525687742572]   \n",
       "\n",
       "     r_gini  u_size  p_size filter u_cogni  steps  \n",
       "0  0.019365    2000     400   None     C30    100  \n",
       "1  0.019814    2000     400   None     C30    100  \n",
       "2  0.020687    2000     400   None     C30    100  \n",
       "3  0.020353    2000     400   None     C30    100  \n",
       "4  0.019626    2000     400   None     C30    100  "
      ]
     },
     "execution_count": 67,
     "metadata": {},
     "output_type": "execute_result"
    }
   ],
   "source": [
    "df = pd.read_pickle('Results_FNone_S100_CC30')\n",
    "df.head()"
   ]
  },
  {
   "cell_type": "code",
   "execution_count": 68,
   "metadata": {},
   "outputs": [
    {
     "data": {
      "text/plain": [
       "510"
      ]
     },
     "execution_count": 68,
     "metadata": {},
     "output_type": "execute_result"
    }
   ],
   "source": [
    "len(df)"
   ]
  },
  {
   "cell_type": "markdown",
   "metadata": {},
   "source": [
    "\n",
    "Now I will provide the basic functions / steps to create a table showing a comparisson between simulation parameter and response variable (i.e. gini coef)."
   ]
  },
  {
   "cell_type": "markdown",
   "metadata": {},
   "source": [
    "## Relevance of Size"
   ]
  },
  {
   "cell_type": "code",
   "execution_count": 69,
   "metadata": {},
   "outputs": [
    {
     "name": "stdout",
     "output_type": "stream",
     "text": [
      "{20000, 40000, 5000, 2000, 10000}\n"
     ]
    }
   ],
   "source": [
    "#How many sizes?\n",
    "print(set(df.u_size))"
   ]
  },
  {
   "cell_type": "code",
   "execution_count": 70,
   "metadata": {},
   "outputs": [],
   "source": [
    "#Fix sizes we have:\n",
    "sizes = [2000,5000,10000,20000,40000][:3] "
   ]
  },
  {
   "cell_type": "code",
   "execution_count": 71,
   "metadata": {},
   "outputs": [
    {
     "name": "stdout",
     "output_type": "stream",
     "text": [
      "[0.18012774233813564, 0.2595102313414077, 0.30248506821752635]\n"
     ]
    }
   ],
   "source": [
    "print([np.mean(df[df['u_size']==i].v_gini) for i in sizes])"
   ]
  },
  {
   "cell_type": "code",
   "execution_count": 72,
   "metadata": {},
   "outputs": [
    {
     "name": "stdout",
     "output_type": "stream",
     "text": [
      "[0.0070410343661706, 0.005237717764678862, 0.00430174665506414]\n"
     ]
    }
   ],
   "source": [
    "print([np.std(df[df['u_size']==i].v_gini) for i in sizes])"
   ]
  },
  {
   "cell_type": "code",
   "execution_count": 73,
   "metadata": {},
   "outputs": [
    {
     "data": {
      "image/png": "[encoded data removed]",
      "text/plain": [
       "<Figure size 432x288 with 1 Axes>"
      ]
     },
     "metadata": {
      "needs_background": "light"
     },
     "output_type": "display_data"
    }
   ],
   "source": [
    "for i in sizes:\n",
    "    plt.hist(df[df['u_size']==i].v_gini,alpha=0.5,bins=10)\n",
    "plt.show()"
   ]
  },
  {
   "cell_type": "code",
   "execution_count": 74,
   "metadata": {},
   "outputs": [
    {
     "name": "stdout",
     "output_type": "stream",
     "text": [
      "102\n",
      "102\n",
      "102\n"
     ]
    }
   ],
   "source": [
    "for k in sizes:\n",
    "    print(len(df[df['u_size']==k].v_gini))"
   ]
  },
  {
   "cell_type": "code",
   "execution_count": 75,
   "metadata": {},
   "outputs": [
    {
     "data": {
      "text/html": [
       "<div>\n",
       "<style scoped>\n",
       "    .dataframe tbody tr th:only-of-type {\n",
       "        vertical-align: middle;\n",
       "    }\n",
       "\n",
       "    .dataframe tbody tr th {\n",
       "        vertical-align: top;\n",
       "    }\n",
       "\n",
       "    .dataframe thead th {\n",
       "        text-align: right;\n",
       "    }\n",
       "</style>\n",
       "<table border=\"1\" class=\"dataframe\">\n",
       "  <thead>\n",
       "    <tr style=\"text-align: right;\">\n",
       "      <th></th>\n",
       "      <th>2000</th>\n",
       "      <th>5000</th>\n",
       "      <th>10000</th>\n",
       "    </tr>\n",
       "  </thead>\n",
       "  <tbody>\n",
       "    <tr>\n",
       "      <th>0</th>\n",
       "      <td>0.173055</td>\n",
       "      <td>0.256605</td>\n",
       "      <td>0.306562</td>\n",
       "    </tr>\n",
       "    <tr>\n",
       "      <th>1</th>\n",
       "      <td>0.191591</td>\n",
       "      <td>0.255731</td>\n",
       "      <td>0.299956</td>\n",
       "    </tr>\n",
       "    <tr>\n",
       "      <th>2</th>\n",
       "      <td>0.171266</td>\n",
       "      <td>0.261471</td>\n",
       "      <td>0.304617</td>\n",
       "    </tr>\n",
       "    <tr>\n",
       "      <th>3</th>\n",
       "      <td>0.185720</td>\n",
       "      <td>0.258762</td>\n",
       "      <td>0.301425</td>\n",
       "    </tr>\n",
       "    <tr>\n",
       "      <th>4</th>\n",
       "      <td>0.178154</td>\n",
       "      <td>0.258990</td>\n",
       "      <td>0.299257</td>\n",
       "    </tr>\n",
       "  </tbody>\n",
       "</table>\n",
       "</div>"
      ],
      "text/plain": [
       "       2000      5000     10000\n",
       "0  0.173055  0.256605  0.306562\n",
       "1  0.191591  0.255731  0.299956\n",
       "2  0.171266  0.261471  0.304617\n",
       "3  0.185720  0.258762  0.301425\n",
       "4  0.178154  0.258990  0.299257"
      ]
     },
     "execution_count": 75,
     "metadata": {},
     "output_type": "execute_result"
    }
   ],
   "source": [
    "test_d = {str(k):list(df[df['u_size']==k].v_gini)[:100] for k in sizes}\n",
    "test_df = pd.DataFrame.from_dict(test_d)\n",
    "test_df.head()"
   ]
  },
  {
   "cell_type": "code",
   "execution_count": 76,
   "metadata": {},
   "outputs": [],
   "source": [
    "none_c30 = df[df['u_size']==10000].v_gini"
   ]
  },
  {
   "cell_type": "code",
   "execution_count": 185,
   "metadata": {},
   "outputs": [
    {
     "data": {
      "image/png": "[encoded data removed]",
      "text/plain": [
       "<Figure size 1800x900 with 1 Axes>"
      ]
     },
     "metadata": {
      "needs_background": "light"
     },
     "output_type": "display_data"
    }
   ],
   "source": [
    "bb = 10\n",
    "import matplotlib\n",
    "matplotlib.rcParams['font.family'] = \"Times New Roman\"\n",
    "matplotlib.rcParams['font.size'] = 12\n",
    "\n",
    "fig, ax = plt.subplots(figsize=(6, 3),dpi=300)\n",
    "plt.grid(color='black', linestyle='--', linewidth=0.1)\n",
    "ax.hist(cognitive_c3,label='Content - High',alpha=0.75,color='g',bins=bb)\n",
    "ax.hist(cognitive_c30,label='Content - Low',alpha=0.3,color='g',bins=bb)\n",
    "ax.hist(none_c3,label='No filter - High',alpha=0.75,color='b',bins=bb)\n",
    "ax.hist(none_c30,label='No filter - Low',alpha=0.3,color='b',bins=bb)\n",
    "#plt.title('Gini-coefficient distributions by filter use and search capacity.')\n",
    "ax.legend(loc=1,bbox_to_anchor=(1.4, 1),title='Filter - Search*')\n",
    "ax.set_ylabel('Frequency')\n",
    "ax.set_xlabel('Gini-coefficient values from simulated markets')\n",
    "ax.spines['top'].set_visible(False)\n",
    "ax.spines['right'].set_visible(False)\n",
    "ax.spines['left'].set_visible(False)\n",
    "#plt.annotate('* \"search capacity\" was simulated for 3 (Low) and 30 (High) evaluated products before purchase decision.', (0,0), (0, -40), xycoords='axes fraction', textcoords='offset points', va='top')\n",
    "plt.savefig('Effects on Gini (Early results)', dpi=300, facecolor='w', edgecolor='w',\n",
    "        orientation='portrait', papertype=None, format=None,\n",
    "        transparent=False, bbox_inches='tight')\n",
    "plt.show()"
   ]
  },
  {
   "cell_type": "code",
   "execution_count": 49,
   "metadata": {},
   "outputs": [
    {
     "name": "stdout",
     "output_type": "stream",
     "text": [
      "2000 0.5263376469808423\n",
      "5000 0.5701250758353413\n",
      "10000 0.5876885476838961\n"
     ]
    }
   ],
   "source": [
    "save_list = []\n",
    "for s in sizes:\n",
    "    save_list.append(np.mean(test_df[str(s)]))\n",
    "    print(str(s)+' '+str(np.mean(test_df[str(s)])))\n"
   ]
  },
  {
   "cell_type": "code",
   "execution_count": 50,
   "metadata": {},
   "outputs": [],
   "source": [
    "socio_c30_p50 = save_list+[0,0]"
   ]
  },
  {
   "cell_type": "code",
   "execution_count": 51,
   "metadata": {},
   "outputs": [],
   "source": [
    "socio_df = {str('c3_p50'):socio_c3_p50,str('c3_p100'):socio_c3_p100,str('c30_p50'):socio_c30_p50,str('c30_p100'):socio_c30_p100}"
   ]
  },
  {
   "cell_type": "code",
   "execution_count": 52,
   "metadata": {},
   "outputs": [
    {
     "data": {
      "text/html": [
       "<div>\n",
       "<style scoped>\n",
       "    .dataframe tbody tr th:only-of-type {\n",
       "        vertical-align: middle;\n",
       "    }\n",
       "\n",
       "    .dataframe tbody tr th {\n",
       "        vertical-align: top;\n",
       "    }\n",
       "\n",
       "    .dataframe thead th {\n",
       "        text-align: right;\n",
       "    }\n",
       "</style>\n",
       "<table border=\"1\" class=\"dataframe\">\n",
       "  <thead>\n",
       "    <tr style=\"text-align: right;\">\n",
       "      <th></th>\n",
       "      <th>c3_p50</th>\n",
       "      <th>c3_p100</th>\n",
       "      <th>c30_p50</th>\n",
       "      <th>c30_p100</th>\n",
       "    </tr>\n",
       "  </thead>\n",
       "  <tbody>\n",
       "    <tr>\n",
       "      <th>2000</th>\n",
       "      <td>0.480429</td>\n",
       "      <td>0.480983</td>\n",
       "      <td>0.526338</td>\n",
       "      <td>0.482366</td>\n",
       "    </tr>\n",
       "    <tr>\n",
       "      <th>5000</th>\n",
       "      <td>0.496831</td>\n",
       "      <td>0.497128</td>\n",
       "      <td>0.570125</td>\n",
       "      <td>0.496711</td>\n",
       "    </tr>\n",
       "    <tr>\n",
       "      <th>10000</th>\n",
       "      <td>0.502643</td>\n",
       "      <td>0.502359</td>\n",
       "      <td>0.587689</td>\n",
       "      <td>0.502262</td>\n",
       "    </tr>\n",
       "    <tr>\n",
       "      <th>20000</th>\n",
       "      <td>0.000000</td>\n",
       "      <td>0.000000</td>\n",
       "      <td>0.000000</td>\n",
       "      <td>0.000000</td>\n",
       "    </tr>\n",
       "    <tr>\n",
       "      <th>40000</th>\n",
       "      <td>0.000000</td>\n",
       "      <td>0.000000</td>\n",
       "      <td>0.000000</td>\n",
       "      <td>0.000000</td>\n",
       "    </tr>\n",
       "  </tbody>\n",
       "</table>\n",
       "</div>"
      ],
      "text/plain": [
       "         c3_p50   c3_p100   c30_p50  c30_p100\n",
       "2000   0.480429  0.480983  0.526338  0.482366\n",
       "5000   0.496831  0.497128  0.570125  0.496711\n",
       "10000  0.502643  0.502359  0.587689  0.502262\n",
       "20000  0.000000  0.000000  0.000000  0.000000\n",
       "40000  0.000000  0.000000  0.000000  0.000000"
      ]
     },
     "execution_count": 52,
     "metadata": {},
     "output_type": "execute_result"
    }
   ],
   "source": [
    "sociodf = pd.DataFrame(socio_df)\n",
    "sociodf.index = sizes+[20000,40000]\n",
    "sociodf"
   ]
  },
  {
   "cell_type": "code",
   "execution_count": 78,
   "metadata": {},
   "outputs": [],
   "source": [
    "sociodf.to_pickle('Sociological_Size_vs_UserSearch_over_Gini')"
   ]
  },
  {
   "cell_type": "code",
   "execution_count": 310,
   "metadata": {},
   "outputs": [],
   "source": [
    "cogni_df = {str('c3_p50'):cogni_c3_p50[:5],str('c3_p100'):cogni_c3_p100[:5],str('c30_p50'):cogni_c30_p50[:5],str('c30_p100'):cogni_c30_p100[:5]}"
   ]
  },
  {
   "cell_type": "code",
   "execution_count": 311,
   "metadata": {},
   "outputs": [
    {
     "data": {
      "text/html": [
       "<div>\n",
       "<style scoped>\n",
       "    .dataframe tbody tr th:only-of-type {\n",
       "        vertical-align: middle;\n",
       "    }\n",
       "\n",
       "    .dataframe tbody tr th {\n",
       "        vertical-align: top;\n",
       "    }\n",
       "\n",
       "    .dataframe thead th {\n",
       "        text-align: right;\n",
       "    }\n",
       "</style>\n",
       "<table border=\"1\" class=\"dataframe\">\n",
       "  <thead>\n",
       "    <tr style=\"text-align: right;\">\n",
       "      <th></th>\n",
       "      <th>c3_p50</th>\n",
       "      <th>c3_p100</th>\n",
       "      <th>c30_p50</th>\n",
       "      <th>c30_p100</th>\n",
       "    </tr>\n",
       "  </thead>\n",
       "  <tbody>\n",
       "    <tr>\n",
       "      <td>2000</td>\n",
       "      <td>0.591013</td>\n",
       "      <td>0.610034</td>\n",
       "      <td>0.355600</td>\n",
       "      <td>0.355600</td>\n",
       "    </tr>\n",
       "    <tr>\n",
       "      <td>5000</td>\n",
       "      <td>0.645436</td>\n",
       "      <td>0.669819</td>\n",
       "      <td>0.414473</td>\n",
       "      <td>0.414473</td>\n",
       "    </tr>\n",
       "    <tr>\n",
       "      <td>10000</td>\n",
       "      <td>0.672581</td>\n",
       "      <td>0.701285</td>\n",
       "      <td>0.445574</td>\n",
       "      <td>0.445574</td>\n",
       "    </tr>\n",
       "    <tr>\n",
       "      <td>20000</td>\n",
       "      <td>0.696779</td>\n",
       "      <td>0.727187</td>\n",
       "      <td>0.000000</td>\n",
       "      <td>0.000000</td>\n",
       "    </tr>\n",
       "    <tr>\n",
       "      <td>40000</td>\n",
       "      <td>0.714373</td>\n",
       "      <td>0.745863</td>\n",
       "      <td>0.000000</td>\n",
       "      <td>0.000000</td>\n",
       "    </tr>\n",
       "  </tbody>\n",
       "</table>\n",
       "</div>"
      ],
      "text/plain": [
       "         c3_p50   c3_p100   c30_p50  c30_p100\n",
       "2000   0.591013  0.610034  0.355600  0.355600\n",
       "5000   0.645436  0.669819  0.414473  0.414473\n",
       "10000  0.672581  0.701285  0.445574  0.445574\n",
       "20000  0.696779  0.727187  0.000000  0.000000\n",
       "40000  0.714373  0.745863  0.000000  0.000000"
      ]
     },
     "execution_count": 311,
     "metadata": {},
     "output_type": "execute_result"
    }
   ],
   "source": [
    "cognidf = pd.DataFrame(cogni_df)\n",
    "cognidf.index = sizes+[20000,40000]\n",
    "cognidf"
   ]
  },
  {
   "cell_type": "code",
   "execution_count": 208,
   "metadata": {},
   "outputs": [],
   "source": [
    "cognidf.to_pickle('Cognitive_Size_vs_UserSearch_over_Gini')"
   ]
  },
  {
   "cell_type": "code",
   "execution_count": 115,
   "metadata": {},
   "outputs": [],
   "source": [
    "nonedf = pd.DataFrame(none_df)"
   ]
  },
  {
   "cell_type": "code",
   "execution_count": 132,
   "metadata": {},
   "outputs": [],
   "source": [
    "nonedf.index = sizes"
   ]
  },
  {
   "cell_type": "code",
   "execution_count": 133,
   "metadata": {},
   "outputs": [
    {
     "data": {
      "text/html": [
       "<div>\n",
       "<style scoped>\n",
       "    .dataframe tbody tr th:only-of-type {\n",
       "        vertical-align: middle;\n",
       "    }\n",
       "\n",
       "    .dataframe tbody tr th {\n",
       "        vertical-align: top;\n",
       "    }\n",
       "\n",
       "    .dataframe thead th {\n",
       "        text-align: right;\n",
       "    }\n",
       "</style>\n",
       "<table border=\"1\" class=\"dataframe\">\n",
       "  <thead>\n",
       "    <tr style=\"text-align: right;\">\n",
       "      <th></th>\n",
       "      <th>c3</th>\n",
       "      <th>c30</th>\n",
       "      <th>c60</th>\n",
       "    </tr>\n",
       "  </thead>\n",
       "  <tbody>\n",
       "    <tr>\n",
       "      <td>2000</td>\n",
       "      <td>0.199453</td>\n",
       "      <td>0.180128</td>\n",
       "      <td>0.126872</td>\n",
       "    </tr>\n",
       "    <tr>\n",
       "      <td>5000</td>\n",
       "      <td>0.206785</td>\n",
       "      <td>0.259510</td>\n",
       "      <td>0.208289</td>\n",
       "    </tr>\n",
       "    <tr>\n",
       "      <td>10000</td>\n",
       "      <td>0.209065</td>\n",
       "      <td>0.302485</td>\n",
       "      <td>0.267830</td>\n",
       "    </tr>\n",
       "    <tr>\n",
       "      <td>20000</td>\n",
       "      <td>0.210219</td>\n",
       "      <td>0.328759</td>\n",
       "      <td>0.311435</td>\n",
       "    </tr>\n",
       "    <tr>\n",
       "      <td>40000</td>\n",
       "      <td>0.211397</td>\n",
       "      <td>0.344546</td>\n",
       "      <td>0.338169</td>\n",
       "    </tr>\n",
       "  </tbody>\n",
       "</table>\n",
       "</div>"
      ],
      "text/plain": [
       "             c3       c30       c60\n",
       "2000   0.199453  0.180128  0.126872\n",
       "5000   0.206785  0.259510  0.208289\n",
       "10000  0.209065  0.302485  0.267830\n",
       "20000  0.210219  0.328759  0.311435\n",
       "40000  0.211397  0.344546  0.338169"
      ]
     },
     "execution_count": 133,
     "metadata": {},
     "output_type": "execute_result"
    }
   ],
   "source": [
    "nonedf"
   ]
  },
  {
   "cell_type": "code",
   "execution_count": 134,
   "metadata": {},
   "outputs": [],
   "source": [
    "nonedf.to_pickle('None_Size_vs_UserSearch_over_Gini')"
   ]
  },
  {
   "cell_type": "markdown",
   "metadata": {},
   "source": [
    "## Tests for the data (using previously specified test_df[] datraframe )"
   ]
  },
  {
   "cell_type": "markdown",
   "metadata": {},
   "source": [
    "Ok. Lets compare these simulation outputs with an Independent Sample T-Test.\n",
    "\n",
    "Let's check for assumptions:"
   ]
  },
  {
   "cell_type": "code",
   "execution_count": 95,
   "metadata": {},
   "outputs": [
    {
     "name": "stdout",
     "output_type": "stream",
     "text": [
      "Size: 2000 . SWstat: 0.9886351823806763 . p-value: 0.5561535358428955\n",
      "Can not reject H0 of normal distribution\n",
      "\n",
      "Size: 5000 . SWstat: 0.9802969694137573 . p-value: 0.14019621908664703\n",
      "Can not reject H0 of normal distribution\n",
      "\n",
      "Size: 10000 . SWstat: 0.9820107817649841 . p-value: 0.1900891810655594\n",
      "Can not reject H0 of normal distribution\n",
      "\n",
      "Size: 20000 . SWstat: 0.9901050329208374 . p-value: 0.673086941242218\n",
      "Can not reject H0 of normal distribution\n",
      "\n",
      "Size: 40000 . SWstat: 0.9776828289031982 . p-value: 0.08757885545492172\n",
      "Can not reject H0 of normal distribution\n",
      "\n"
     ]
    }
   ],
   "source": [
    "#Testing for Normality:\n",
    "for s in sizes:             # DEPENDS ON TH SOCIOLOGICAL< COGNITIVE , OR NONES\n",
    "    w,p = scipy.stats.shapiro(list(test_df[str(s)]))\n",
    "    print('Size: '+str(s)+' . SWstat: '+str(w)+' . p-value: '+str(p))\n",
    "    if p > 0.05:\n",
    "        print('Can not reject H0 of normal distribution')\n",
    "    else:\n",
    "        print('Reject H0. NOT NORMAL DISTRIBUTION')\n",
    "    print()"
   ]
  },
  {
   "cell_type": "markdown",
   "metadata": {},
   "source": [
    "Ok. They appear to not follow something else. We assume then that the distribution is normal.\n",
    "Thus, as normal and independent samples, we proceed with the two sample t-test between all sizes."
   ]
  },
  {
   "cell_type": "code",
   "execution_count": 96,
   "metadata": {},
   "outputs": [
    {
     "name": "stdout",
     "output_type": "stream",
     "text": [
      "Sizes: 2000 vs 5000 - T-test: -9.156829628249225, p-value: 7.549489573055874e-15\n",
      "Sizes: 5000 vs 10000 - T-test: -4.039719935248117, p-value: 0.00010577006834149991\n",
      "Sizes: 10000 vs 20000 - T-test: -2.785494453907122, p-value: 0.006405474211912315\n",
      "Sizes: 20000 vs 40000 - T-test: -3.6043418328113668, p-value: 0.0004919446655138345\n"
     ]
    }
   ],
   "source": [
    "#Get two-sample t-test related\n",
    "for s in range(len(sizes)-1):\n",
    "    t,p = scipy.stats.ttest_rel(test_df[str(sizes[s])],test_df[str(sizes[s+1])])\n",
    "    print('Sizes: '+str(sizes[s])+' vs '+str(sizes[s+1])+' - T-test: '+str(t)+', p-value: '+str(p))"
   ]
  },
  {
   "cell_type": "code",
   "execution_count": 97,
   "metadata": {},
   "outputs": [
    {
     "name": "stdout",
     "output_type": "stream",
     "text": [
      "Sizes: 2000 vs 5000 - T-test: -9.806389730882284, p-value: 9.349475164122184e-19\n",
      "Sizes: 5000 vs 10000 - T-test: -4.2280584059323925, p-value: 3.5986403394746315e-05\n",
      "Sizes: 10000 vs 20000 - T-test: -2.8412283507543923, p-value: 0.004964107735377952\n",
      "Sizes: 20000 vs 40000 - T-test: -3.8673487831593576, p-value: 0.00014919915846441138\n"
     ]
    }
   ],
   "source": [
    "#Get two-sample t-test independent\n",
    "for s in range(len(sizes)-1):\n",
    "    t,p = scipy.stats.ttest_ind(test_df[str(sizes[s])],test_df[str(sizes[s+1])])\n",
    "    print('Sizes: '+str(sizes[s])+' vs '+str(sizes[s+1])+' - T-test: '+str(t)+', p-value: '+str(p))"
   ]
  },
  {
   "cell_type": "markdown",
   "metadata": {},
   "source": [
    "## Results\n",
    "\n",
    "It appears that size does affect the gini coefficient. The mean differences are significant and it stronger for the lower ranges.\n",
    "\n",
    "\n",
    "## Explore Default simulation \n",
    "\n",
    "How does views? and Ratings behave?"
   ]
  },
  {
   "cell_type": "code",
   "execution_count": 63,
   "metadata": {},
   "outputs": [
    {
     "data": {
      "text/plain": [
       "{'Sociological'}"
      ]
     },
     "execution_count": 63,
     "metadata": {},
     "output_type": "execute_result"
    }
   ],
   "source": [
    "set(df['filter'])"
   ]
  },
  {
   "cell_type": "code",
   "execution_count": 58,
   "metadata": {},
   "outputs": [
    {
     "name": "stdout",
     "output_type": "stream",
     "text": [
      "Mean\n"
     ]
    },
    {
     "data": {
      "image/png": "[encoded data removed]",
      "text/plain": [
       "<Figure size 432x288 with 1 Axes>"
      ]
     },
     "metadata": {
      "needs_background": "light"
     },
     "output_type": "display_data"
    },
    {
     "data": {
      "image/png": "[encoded data removed]",
      "text/plain": [
       "<Figure size 432x288 with 1 Axes>"
      ]
     },
     "metadata": {
      "needs_background": "light"
     },
     "output_type": "display_data"
    },
    {
     "data": {
      "image/png": "[encoded data removed]",
      "text/plain": [
       "<Figure size 432x288 with 1 Axes>"
      ]
     },
     "metadata": {
      "needs_background": "light"
     },
     "output_type": "display_data"
    },
    {
     "name": "stdout",
     "output_type": "stream",
     "text": [
      "Median\n"
     ]
    },
    {
     "data": {
      "image/png": "[encoded data removed]",
      "text/plain": [
       "<Figure size 432x288 with 1 Axes>"
      ]
     },
     "metadata": {
      "needs_background": "light"
     },
     "output_type": "display_data"
    },
    {
     "data": {
      "image/png": "[encoded data removed]",
      "text/plain": [
       "<Figure size 432x288 with 1 Axes>"
      ]
     },
     "metadata": {
      "needs_background": "light"
     },
     "output_type": "display_data"
    }
   ],
   "source": [
    "#MEAN\n",
    "print('Mean')\n",
    "for s in sizes:\n",
    "    plt.scatter(range(len(list(df[df['u_size']==s].v_mean))),list(df[df['u_size']==s].v_mean),alpha=0.5,label=str(s))\n",
    "plt.legend()\n",
    "plt.show()\n",
    "\n",
    "for s in ['Sociological','Cognitive','None']:\n",
    "    plt.scatter(range(len(list(df[df['filter']==s].v_mean))),list(df[df['filter']==s].v_mean),alpha=0.5,label=str(s))\n",
    "plt.legend()\n",
    "plt.show()\n",
    "\n",
    "\n",
    "for s in sizes:\n",
    "    plt.hist(list(df[df['u_size']==s].v_mean),alpha=0.5,label=str(s))\n",
    "plt.legend()\n",
    "plt.show()\n",
    "    \n",
    "#MEDIAN\n",
    "print('Median')\n",
    "for s in sizes:\n",
    "    plt.scatter(range(len(list(df[df['u_size']==s].v_median))),list(df[df['u_size']==s].v_median),alpha=0.5,label=str(s))\n",
    "plt.legend()\n",
    "plt.show()\n",
    "\n",
    "for s in sizes:\n",
    "    plt.hist(list(df[df['u_size']==s].v_median),alpha=0.5,label=str(s))\n",
    "plt.legend()\n",
    "plt.show()"
   ]
  },
  {
   "cell_type": "markdown",
   "metadata": {},
   "source": [
    "We see that the mean does change, significatively increasing as we move between simulation sizes.\n",
    "But, it is also possible to see that this increased average is moving within the range of smaller simulation sizes. Meaning, that the average appers to be stabilizing below 0.22, regardless of size. So, we should expect an \"all else equal\" default situation with an expected gini of 0.21 and 0.22. Particularly if we use simulation size: 10000, 20000, and 40000 users per simulation. "
   ]
  },
  {
   "cell_type": "code",
   "execution_count": 99,
   "metadata": {},
   "outputs": [
    {
     "ename": "NameError",
     "evalue": "name 'g4' is not defined",
     "output_type": "error",
     "traceback": [
      "\u001b[1;31m---------------------------------------------------------------------------\u001b[0m",
      "\u001b[1;31mNameError\u001b[0m                                 Traceback (most recent call last)",
      "\u001b[1;32m<ipython-input-99-753e064d1180>\u001b[0m in \u001b[0;36m<module>\u001b[1;34m\u001b[0m\n\u001b[1;32m----> 1\u001b[1;33m \u001b[0mscipy\u001b[0m\u001b[1;33m.\u001b[0m\u001b[0mstats\u001b[0m\u001b[1;33m.\u001b[0m\u001b[0mttest_rel\u001b[0m\u001b[1;33m(\u001b[0m\u001b[0mg4\u001b[0m\u001b[1;33m,\u001b[0m\u001b[0mg5\u001b[0m\u001b[1;33m)\u001b[0m\u001b[1;33m\u001b[0m\u001b[1;33m\u001b[0m\u001b[0m\n\u001b[0m",
      "\u001b[1;31mNameError\u001b[0m: name 'g4' is not defined"
     ]
    }
   ],
   "source": [
    "scipy.stats.ttest_rel(g4,g5)"
   ]
  },
  {
   "cell_type": "code",
   "execution_count": 100,
   "metadata": {},
   "outputs": [
    {
     "ename": "NameError",
     "evalue": "name 'simulations' is not defined",
     "output_type": "error",
     "traceback": [
      "\u001b[1;31m---------------------------------------------------------------------------\u001b[0m",
      "\u001b[1;31mNameError\u001b[0m                                 Traceback (most recent call last)",
      "\u001b[1;32m<ipython-input-100-5af54b9df929>\u001b[0m in \u001b[0;36m<module>\u001b[1;34m\u001b[0m\n\u001b[0;32m      1\u001b[0m \u001b[0mifilter\u001b[0m \u001b[1;33m=\u001b[0m \u001b[1;34m'Cognitive'\u001b[0m\u001b[1;33m\u001b[0m\u001b[1;33m\u001b[0m\u001b[0m\n\u001b[1;32m----> 2\u001b[1;33m \u001b[0mcdf00\u001b[0m \u001b[1;33m=\u001b[0m \u001b[0mpd\u001b[0m\u001b[1;33m.\u001b[0m\u001b[0mread_pickle\u001b[0m\u001b[1;33m(\u001b[0m\u001b[1;34m'C:/Simulations/'\u001b[0m\u001b[1;33m+\u001b[0m\u001b[0mstr\u001b[0m\u001b[1;33m(\u001b[0m\u001b[1;33m[\u001b[0m\u001b[1;36m2000\u001b[0m\u001b[1;33m,\u001b[0m\u001b[1;36m400\u001b[0m\u001b[1;33m,\u001b[0m\u001b[0mifilter\u001b[0m\u001b[1;33m,\u001b[0m\u001b[0msimulations\u001b[0m\u001b[1;33m]\u001b[0m\u001b[1;33m)\u001b[0m\u001b[1;33m)\u001b[0m\u001b[1;33m\u001b[0m\u001b[1;33m\u001b[0m\u001b[0m\n\u001b[0m\u001b[0;32m      3\u001b[0m \u001b[0mcdf11\u001b[0m \u001b[1;33m=\u001b[0m \u001b[0mpd\u001b[0m\u001b[1;33m.\u001b[0m\u001b[0mread_pickle\u001b[0m\u001b[1;33m(\u001b[0m\u001b[1;34m'C:/Simulations/'\u001b[0m\u001b[1;33m+\u001b[0m\u001b[0mstr\u001b[0m\u001b[1;33m(\u001b[0m\u001b[1;33m[\u001b[0m\u001b[1;36m5000\u001b[0m\u001b[1;33m,\u001b[0m\u001b[1;36m1000\u001b[0m\u001b[1;33m,\u001b[0m\u001b[0mifilter\u001b[0m\u001b[1;33m,\u001b[0m\u001b[0msimulations\u001b[0m\u001b[1;33m]\u001b[0m\u001b[1;33m)\u001b[0m\u001b[1;33m)\u001b[0m\u001b[1;33m\u001b[0m\u001b[1;33m\u001b[0m\u001b[0m\n\u001b[0;32m      4\u001b[0m \u001b[0mcdf22\u001b[0m \u001b[1;33m=\u001b[0m \u001b[0mpd\u001b[0m\u001b[1;33m.\u001b[0m\u001b[0mread_pickle\u001b[0m\u001b[1;33m(\u001b[0m\u001b[1;34m'C:/Simulations/'\u001b[0m\u001b[1;33m+\u001b[0m\u001b[0mstr\u001b[0m\u001b[1;33m(\u001b[0m\u001b[1;33m[\u001b[0m\u001b[1;36m10000\u001b[0m\u001b[1;33m,\u001b[0m\u001b[1;36m2000\u001b[0m\u001b[1;33m,\u001b[0m\u001b[0mifilter\u001b[0m\u001b[1;33m,\u001b[0m\u001b[0msimulations\u001b[0m\u001b[1;33m]\u001b[0m\u001b[1;33m)\u001b[0m\u001b[1;33m)\u001b[0m\u001b[1;33m\u001b[0m\u001b[1;33m\u001b[0m\u001b[0m\n\u001b[0;32m      5\u001b[0m \u001b[0mcdf33\u001b[0m \u001b[1;33m=\u001b[0m \u001b[0mpd\u001b[0m\u001b[1;33m.\u001b[0m\u001b[0mread_pickle\u001b[0m\u001b[1;33m(\u001b[0m\u001b[1;34m'C:/Simulations/'\u001b[0m\u001b[1;33m+\u001b[0m\u001b[0mstr\u001b[0m\u001b[1;33m(\u001b[0m\u001b[1;33m[\u001b[0m\u001b[1;36m20000\u001b[0m\u001b[1;33m,\u001b[0m\u001b[1;36m4000\u001b[0m\u001b[1;33m,\u001b[0m\u001b[0mifilter\u001b[0m\u001b[1;33m,\u001b[0m\u001b[0msimulations\u001b[0m\u001b[1;33m]\u001b[0m\u001b[1;33m)\u001b[0m\u001b[1;33m)\u001b[0m\u001b[1;33m\u001b[0m\u001b[1;33m\u001b[0m\u001b[0m\n",
      "\u001b[1;31mNameError\u001b[0m: name 'simulations' is not defined"
     ]
    }
   ],
   "source": [
    "ifilter = 'Cognitive'\n",
    "cdf00 = pd.read_pickle('C:/Simulations/'+str([2000,400,ifilter,simulations]))\n",
    "cdf11 = pd.read_pickle('C:/Simulations/'+str([5000,1000,ifilter,simulations]))\n",
    "cdf22 = pd.read_pickle('C:/Simulations/'+str([10000,2000,ifilter,simulations]))\n",
    "cdf33 = pd.read_pickle('C:/Simulations/'+str([20000,4000,ifilter,simulations]))\n",
    "cdf44 = pd.read_pickle('C:/Simulations/'+str([40000,8000,ifilter,simulations]))\n"
   ]
  },
  {
   "cell_type": "code",
   "execution_count": 70,
   "metadata": {},
   "outputs": [
    {
     "data": {
      "image/png": "[encoded data removed]",
      "text/plain": [
       "<Figure size 432x288 with 1 Axes>"
      ]
     },
     "metadata": {
      "needs_background": "light"
     },
     "output_type": "display_data"
    }
   ],
   "source": [
    "for i in [cdf00,cdf11,cdf22,cdf33]:\n",
    "    plt.hist(get_gini(i),alpha=0.4,bins=10)"
   ]
  },
  {
   "cell_type": "markdown",
   "metadata": {},
   "source": [
    "## OLS Results"
   ]
  },
  {
   "cell_type": "code",
   "execution_count": 140,
   "metadata": {},
   "outputs": [],
   "source": [
    "## Regression\n",
    "\n",
    "#get all dfs.\n",
    "df = pd.read_pickle('Results_FNone_S100_CC3')\n",
    "df['C3'] = 1\n",
    "df['C30'] = 0\n",
    "df['C60'] = 0\n",
    "df1 = pd.read_pickle('Results_FNone_S100_CC30')\n",
    "df1['C3'] = 0\n",
    "df1['C30'] = 1\n",
    "df1['C60'] = 0\n",
    "df2 = pd.read_pickle('Results_FNone_S100_CC60')\n",
    "df2['C3'] = 0\n",
    "df2['C30'] = 0\n",
    "df2['C60'] = 1\n",
    "\n",
    "df = df.append(df1)\n",
    "df = df.append(df2)\n",
    "df['None'] = 1\n",
    "df['Cogni'] = 0\n",
    "df['Socio'] = 0\n",
    "df['P50'] = 0\n",
    "df['P100'] = 0\n",
    "df['S100'] = 1\n",
    "df['S200'] = 0\n",
    "\n",
    "none_df = df\n",
    "\n",
    "df = pd.read_pickle('Results_FCognitive_S100_CC3_P50')\n",
    "df['C3'] = 1\n",
    "df['C30'] = 0\n",
    "df['p50'] = 1\n",
    "df['p100'] = 0\n",
    "df1 = pd.read_pickle('Results_FCognitive_S100_CC3_P100')\n",
    "df1['C3'] = 1\n",
    "df1['C30'] = 0\n",
    "df1['P50'] = 0\n",
    "df1['P100'] = 1\n",
    "df2 = pd.read_pickle('Results_FCognitive_S100_CC30_P50')\n",
    "df2['C3'] = 0\n",
    "df2['C30'] = 1\n",
    "df2['P50'] = 1\n",
    "df2['P100'] = 0\n",
    "df3 = pd.read_pickle('Results_FCognitive_S100_CC30_P100')\n",
    "df3['C3'] = 0\n",
    "df3['C30'] = 1\n",
    "df3['P50'] = 0\n",
    "df3['P100'] = 1\n",
    "\n",
    "df = df.append(df1)\n",
    "df = df.append(df2)\n",
    "df = df.append(df3)\n",
    "df['None'] = 0\n",
    "df['Cogni'] = 1\n",
    "df['Socio'] = 0\n",
    "df['S100'] = 1\n",
    "df['S200'] = 0\n",
    "\n",
    "df['C60'] = 0\n",
    "cogni_df = df\n",
    "\n",
    "df = pd.read_pickle('Results_FSociological_S100_CC3_P50')\n",
    "df['C3'] = 1\n",
    "df['C30'] = 0\n",
    "df['P50'] = 1\n",
    "df['P100'] = 0\n",
    "#df1 = pd.read_pickle('Results_FSociological_S100_CC3_P100')\n",
    "#df1['C3'] = 1\n",
    "#df1['C30'] = 0\n",
    "#df1['p50'] = 0\n",
    "#df1['p100'] = 1\n",
    "df2 = pd.read_pickle('Results_FSociological_S100_CC30_P50')\n",
    "df2['C3'] = 0\n",
    "df2['C30'] = 1\n",
    "df2['P50'] = 1\n",
    "df2['P100'] = 0\n",
    "df3 = pd.read_pickle('Results_FSociological_S100_CC30_P100')\n",
    "df3['C3'] = 0\n",
    "df3['C30'] = 1\n",
    "df3['P50'] = 0\n",
    "df3['P100'] = 1\n",
    "\n",
    "#df = df.append(df1)\n",
    "df = df.append(df2)\n",
    "df = df.append(df3)\n",
    "df['None'] = 0\n",
    "df['Cogni'] = 0\n",
    "df['Socio'] = 1\n",
    "df['S100'] = 1\n",
    "df['S200'] = 0\n",
    "\n",
    "df['C60'] = 0\n",
    "socio_df = df"
   ]
  },
  {
   "cell_type": "code",
   "execution_count": 141,
   "metadata": {},
   "outputs": [],
   "source": [
    "df = none_df.append(cogni_df)\n",
    "df = df.append(socio_df)"
   ]
  },
  {
   "cell_type": "code",
   "execution_count": 142,
   "metadata": {},
   "outputs": [],
   "source": [
    "from sklearn import linear_model\n",
    "from statsmodels.api import OLS\n",
    "import scipy.stats as stats\n"
   ]
  },
  {
   "cell_type": "code",
   "execution_count": 143,
   "metadata": {},
   "outputs": [
    {
     "name": "stdout",
     "output_type": "stream",
     "text": [
      "Index(['v_mean', 'v_median', 'v_std', 'v_total', 'v_minmax', 'v_gini',\n",
      "       'r_mean', 'r_median', 'r_std', 'r_total', 'r_minmax', 'r_gini',\n",
      "       'u_size', 'p_size', 'filter', 'u_cogni', 'steps', 'C3', 'C30', 'C60',\n",
      "       'None', 'Cogni', 'Socio', 'P50', 'P100', 'S100', 'S200', 'p50', 'p100'],\n",
      "      dtype='object')\n"
     ]
    }
   ],
   "source": [
    "print(df.columns)\n",
    "dft = df[['C3','C30','C60','Cogni','Socio','None','v_median','v_mean','v_total','p_size','v_gini']]"
   ]
  },
  {
   "cell_type": "code",
   "execution_count": 68,
   "metadata": {},
   "outputs": [],
   "source": [
    "dft = dft.dropna()"
   ]
  },
  {
   "cell_type": "code",
   "execution_count": 69,
   "metadata": {},
   "outputs": [],
   "source": [
    "#dft = dft.drop('Socio',1)"
   ]
  },
  {
   "cell_type": "code",
   "execution_count": 8,
   "metadata": {},
   "outputs": [
    {
     "data": {
      "text/html": [
       "<div>\n",
       "<style scoped>\n",
       "    .dataframe tbody tr th:only-of-type {\n",
       "        vertical-align: middle;\n",
       "    }\n",
       "\n",
       "    .dataframe tbody tr th {\n",
       "        vertical-align: top;\n",
       "    }\n",
       "\n",
       "    .dataframe thead th {\n",
       "        text-align: right;\n",
       "    }\n",
       "</style>\n",
       "<table border=\"1\" class=\"dataframe\">\n",
       "  <thead>\n",
       "    <tr style=\"text-align: right;\">\n",
       "      <th></th>\n",
       "      <th>C3</th>\n",
       "      <th>C30</th>\n",
       "      <th>C60</th>\n",
       "      <th>Cogni</th>\n",
       "      <th>Socio</th>\n",
       "      <th>None</th>\n",
       "      <th>v_median</th>\n",
       "      <th>v_mean</th>\n",
       "      <th>v_total</th>\n",
       "      <th>p_size</th>\n",
       "      <th>v_gini</th>\n",
       "    </tr>\n",
       "  </thead>\n",
       "  <tbody>\n",
       "    <tr>\n",
       "      <th>0</th>\n",
       "      <td>1</td>\n",
       "      <td>0</td>\n",
       "      <td>0</td>\n",
       "      <td>0</td>\n",
       "      <td>0</td>\n",
       "      <td>1</td>\n",
       "      <td>121.0</td>\n",
       "      <td>125.5375</td>\n",
       "      <td>400</td>\n",
       "      <td>400</td>\n",
       "      <td>0.191716</td>\n",
       "    </tr>\n",
       "    <tr>\n",
       "      <th>1</th>\n",
       "      <td>1</td>\n",
       "      <td>0</td>\n",
       "      <td>0</td>\n",
       "      <td>0</td>\n",
       "      <td>0</td>\n",
       "      <td>1</td>\n",
       "      <td>120.0</td>\n",
       "      <td>124.9750</td>\n",
       "      <td>400</td>\n",
       "      <td>400</td>\n",
       "      <td>0.192733</td>\n",
       "    </tr>\n",
       "    <tr>\n",
       "      <th>2</th>\n",
       "      <td>1</td>\n",
       "      <td>0</td>\n",
       "      <td>0</td>\n",
       "      <td>0</td>\n",
       "      <td>0</td>\n",
       "      <td>1</td>\n",
       "      <td>119.0</td>\n",
       "      <td>125.4125</td>\n",
       "      <td>400</td>\n",
       "      <td>400</td>\n",
       "      <td>0.199169</td>\n",
       "    </tr>\n",
       "    <tr>\n",
       "      <th>3</th>\n",
       "      <td>1</td>\n",
       "      <td>0</td>\n",
       "      <td>0</td>\n",
       "      <td>0</td>\n",
       "      <td>0</td>\n",
       "      <td>1</td>\n",
       "      <td>123.0</td>\n",
       "      <td>125.2075</td>\n",
       "      <td>400</td>\n",
       "      <td>400</td>\n",
       "      <td>0.204435</td>\n",
       "    </tr>\n",
       "    <tr>\n",
       "      <th>4</th>\n",
       "      <td>1</td>\n",
       "      <td>0</td>\n",
       "      <td>0</td>\n",
       "      <td>0</td>\n",
       "      <td>0</td>\n",
       "      <td>1</td>\n",
       "      <td>122.0</td>\n",
       "      <td>124.6175</td>\n",
       "      <td>400</td>\n",
       "      <td>400</td>\n",
       "      <td>0.201723</td>\n",
       "    </tr>\n",
       "    <tr>\n",
       "      <th>...</th>\n",
       "      <td>...</td>\n",
       "      <td>...</td>\n",
       "      <td>...</td>\n",
       "      <td>...</td>\n",
       "      <td>...</td>\n",
       "      <td>...</td>\n",
       "      <td>...</td>\n",
       "      <td>...</td>\n",
       "      <td>...</td>\n",
       "      <td>...</td>\n",
       "      <td>...</td>\n",
       "    </tr>\n",
       "    <tr>\n",
       "      <th>0</th>\n",
       "      <td>0</td>\n",
       "      <td>1</td>\n",
       "      <td>0</td>\n",
       "      <td>0</td>\n",
       "      <td>1</td>\n",
       "      <td>0</td>\n",
       "      <td>124.0</td>\n",
       "      <td>220.9765</td>\n",
       "      <td>2000</td>\n",
       "      <td>2000</td>\n",
       "      <td>0.504087</td>\n",
       "    </tr>\n",
       "    <tr>\n",
       "      <th>0</th>\n",
       "      <td>0</td>\n",
       "      <td>1</td>\n",
       "      <td>0</td>\n",
       "      <td>0</td>\n",
       "      <td>1</td>\n",
       "      <td>0</td>\n",
       "      <td>125.0</td>\n",
       "      <td>220.7185</td>\n",
       "      <td>2000</td>\n",
       "      <td>2000</td>\n",
       "      <td>0.497866</td>\n",
       "    </tr>\n",
       "    <tr>\n",
       "      <th>0</th>\n",
       "      <td>0</td>\n",
       "      <td>1</td>\n",
       "      <td>0</td>\n",
       "      <td>0</td>\n",
       "      <td>1</td>\n",
       "      <td>0</td>\n",
       "      <td>124.0</td>\n",
       "      <td>221.1590</td>\n",
       "      <td>2000</td>\n",
       "      <td>2000</td>\n",
       "      <td>0.499818</td>\n",
       "    </tr>\n",
       "    <tr>\n",
       "      <th>0</th>\n",
       "      <td>0</td>\n",
       "      <td>1</td>\n",
       "      <td>0</td>\n",
       "      <td>0</td>\n",
       "      <td>1</td>\n",
       "      <td>0</td>\n",
       "      <td>123.0</td>\n",
       "      <td>220.8960</td>\n",
       "      <td>2000</td>\n",
       "      <td>2000</td>\n",
       "      <td>0.499647</td>\n",
       "    </tr>\n",
       "    <tr>\n",
       "      <th>0</th>\n",
       "      <td>0</td>\n",
       "      <td>1</td>\n",
       "      <td>0</td>\n",
       "      <td>0</td>\n",
       "      <td>1</td>\n",
       "      <td>0</td>\n",
       "      <td>125.0</td>\n",
       "      <td>221.3755</td>\n",
       "      <td>2000</td>\n",
       "      <td>2000</td>\n",
       "      <td>0.505066</td>\n",
       "    </tr>\n",
       "  </tbody>\n",
       "</table>\n",
       "<p>4080 rows × 11 columns</p>\n",
       "</div>"
      ],
      "text/plain": [
       "    C3  C30  C60  Cogni  Socio  None  v_median    v_mean  v_total  p_size  \\\n",
       "0    1    0    0      0      0     1     121.0  125.5375      400     400   \n",
       "1    1    0    0      0      0     1     120.0  124.9750      400     400   \n",
       "2    1    0    0      0      0     1     119.0  125.4125      400     400   \n",
       "3    1    0    0      0      0     1     123.0  125.2075      400     400   \n",
       "4    1    0    0      0      0     1     122.0  124.6175      400     400   \n",
       "..  ..  ...  ...    ...    ...   ...       ...       ...      ...     ...   \n",
       "0    0    1    0      0      1     0     124.0  220.9765     2000    2000   \n",
       "0    0    1    0      0      1     0     125.0  220.7185     2000    2000   \n",
       "0    0    1    0      0      1     0     124.0  221.1590     2000    2000   \n",
       "0    0    1    0      0      1     0     123.0  220.8960     2000    2000   \n",
       "0    0    1    0      0      1     0     125.0  221.3755     2000    2000   \n",
       "\n",
       "      v_gini  \n",
       "0   0.191716  \n",
       "1   0.192733  \n",
       "2   0.199169  \n",
       "3   0.204435  \n",
       "4   0.201723  \n",
       "..       ...  \n",
       "0   0.504087  \n",
       "0   0.497866  \n",
       "0   0.499818  \n",
       "0   0.499647  \n",
       "0   0.505066  \n",
       "\n",
       "[4080 rows x 11 columns]"
      ]
     },
     "execution_count": 8,
     "metadata": {},
     "output_type": "execute_result"
    }
   ],
   "source": [
    "dft"
   ]
  },
  {
   "cell_type": "code",
   "execution_count": 9,
   "metadata": {},
   "outputs": [],
   "source": [
    "df_Y = dft['v_gini']\n",
    "df_X = dft[['C3','C30','C60','Cogni','None','v_median','v_mean','v_total','p_size']]"
   ]
  },
  {
   "cell_type": "code",
   "execution_count": 10,
   "metadata": {},
   "outputs": [
    {
     "name": "stdout",
     "output_type": "stream",
     "text": [
      "[[1.         0.23138553]\n",
      " [0.23138553 1.        ]]\n",
      "(0.2313855292195628, 1.008551348415986e-50)\n"
     ]
    },
    {
     "data": {
      "image/png": "[encoded data removed]",
      "text/plain": [
       "<Figure size 432x432 with 3 Axes>"
      ]
     },
     "metadata": {
      "needs_background": "light"
     },
     "output_type": "display_data"
    }
   ],
   "source": [
    "#Some exploration\n",
    "temp_ = 'Socio'\n",
    "sns.jointplot(x=temp_,y='v_gini',data=dft)\n",
    "\n",
    "print(np.corrcoef(dft[temp_],dft['v_gini']))\n",
    "\n",
    "print(stats.pearsonr(dft[temp_],dft['v_gini']))"
   ]
  },
  {
   "cell_type": "code",
   "execution_count": 147,
   "metadata": {},
   "outputs": [
    {
     "data": {
      "text/html": [
       "<table class=\"simpletable\">\n",
       "<caption>OLS Regression Results</caption>\n",
       "<tr>\n",
       "  <th>Dep. Variable:</th>         <td>v_gini</td>      <th>  R-squared:         </th>  <td>   0.966</td> \n",
       "</tr>\n",
       "<tr>\n",
       "  <th>Model:</th>                   <td>OLS</td>       <th>  Adj. R-squared:    </th>  <td>   0.966</td> \n",
       "</tr>\n",
       "<tr>\n",
       "  <th>Method:</th>             <td>Least Squares</td>  <th>  F-statistic:       </th>  <td>1.648e+04</td>\n",
       "</tr>\n",
       "<tr>\n",
       "  <th>Date:</th>             <td>Thu, 09 Apr 2020</td> <th>  Prob (F-statistic):</th>   <td>  0.00</td>  \n",
       "</tr>\n",
       "<tr>\n",
       "  <th>Time:</th>                 <td>18:28:46</td>     <th>  Log-Likelihood:    </th>  <td>  8111.7</td> \n",
       "</tr>\n",
       "<tr>\n",
       "  <th>No. Observations:</th>      <td>  4080</td>      <th>  AIC:               </th> <td>-1.621e+04</td>\n",
       "</tr>\n",
       "<tr>\n",
       "  <th>Df Residuals:</th>          <td>  4072</td>      <th>  BIC:               </th> <td>-1.616e+04</td>\n",
       "</tr>\n",
       "<tr>\n",
       "  <th>Df Model:</th>              <td>     7</td>      <th>                     </th>      <td> </td>    \n",
       "</tr>\n",
       "<tr>\n",
       "  <th>Covariance Type:</th>      <td>nonrobust</td>    <th>                     </th>      <td> </td>    \n",
       "</tr>\n",
       "</table>\n",
       "<table class=\"simpletable\">\n",
       "<tr>\n",
       "      <td></td>        <th>coef</th>     <th>std err</th>      <th>t</th>      <th>P>|t|</th>  <th>[0.025</th>    <th>0.975]</th>  \n",
       "</tr>\n",
       "<tr>\n",
       "  <th>C3</th>       <td>    0.2442</td> <td>    0.006</td> <td>   43.368</td> <td> 0.000</td> <td>    0.233</td> <td>    0.255</td>\n",
       "</tr>\n",
       "<tr>\n",
       "  <th>C30</th>      <td>    0.2227</td> <td>    0.008</td> <td>   29.426</td> <td> 0.000</td> <td>    0.208</td> <td>    0.238</td>\n",
       "</tr>\n",
       "<tr>\n",
       "  <th>C60</th>      <td>    0.2414</td> <td>    0.008</td> <td>   29.428</td> <td> 0.000</td> <td>    0.225</td> <td>    0.257</td>\n",
       "</tr>\n",
       "<tr>\n",
       "  <th>Cogni</th>    <td>    0.1306</td> <td>    0.002</td> <td>   66.157</td> <td> 0.000</td> <td>    0.127</td> <td>    0.134</td>\n",
       "</tr>\n",
       "<tr>\n",
       "  <th>None</th>     <td>    0.0960</td> <td>    0.004</td> <td>   24.037</td> <td> 0.000</td> <td>    0.088</td> <td>    0.104</td>\n",
       "</tr>\n",
       "<tr>\n",
       "  <th>v_median</th> <td>   -0.0048</td> <td> 3.89e-05</td> <td> -122.532</td> <td> 0.000</td> <td>   -0.005</td> <td>   -0.005</td>\n",
       "</tr>\n",
       "<tr>\n",
       "  <th>v_mean</th>   <td>    0.0038</td> <td> 4.58e-05</td> <td>   82.403</td> <td> 0.000</td> <td>    0.004</td> <td>    0.004</td>\n",
       "</tr>\n",
       "<tr>\n",
       "  <th>v_total</th>  <td> 1.527e-06</td> <td> 1.34e-07</td> <td>   11.401</td> <td> 0.000</td> <td> 1.26e-06</td> <td> 1.79e-06</td>\n",
       "</tr>\n",
       "<tr>\n",
       "  <th>p_size</th>   <td> 1.527e-06</td> <td> 1.34e-07</td> <td>   11.401</td> <td> 0.000</td> <td> 1.26e-06</td> <td> 1.79e-06</td>\n",
       "</tr>\n",
       "</table>\n",
       "<table class=\"simpletable\">\n",
       "<tr>\n",
       "  <th>Omnibus:</th>       <td>726.681</td> <th>  Durbin-Watson:     </th> <td>   0.247</td>\n",
       "</tr>\n",
       "<tr>\n",
       "  <th>Prob(Omnibus):</th> <td> 0.000</td>  <th>  Jarque-Bera (JB):  </th> <td> 157.884</td>\n",
       "</tr>\n",
       "<tr>\n",
       "  <th>Skew:</th>          <td>-0.069</td>  <th>  Prob(JB):          </th> <td>5.20e-35</td>\n",
       "</tr>\n",
       "<tr>\n",
       "  <th>Kurtosis:</th>      <td> 2.046</td>  <th>  Cond. No.          </th> <td>5.54e+16</td>\n",
       "</tr>\n",
       "</table><br/><br/>Warnings:<br/>[1] Standard Errors assume that the covariance matrix of the errors is correctly specified.<br/>[2] The smallest eigenvalue is  3e-23. This might indicate that there are<br/>strong multicollinearity problems or that the design matrix is singular."
      ],
      "text/plain": [
       "<class 'statsmodels.iolib.summary.Summary'>\n",
       "\"\"\"\n",
       "                            OLS Regression Results                            \n",
       "==============================================================================\n",
       "Dep. Variable:                 v_gini   R-squared:                       0.966\n",
       "Model:                            OLS   Adj. R-squared:                  0.966\n",
       "Method:                 Least Squares   F-statistic:                 1.648e+04\n",
       "Date:                Thu, 09 Apr 2020   Prob (F-statistic):               0.00\n",
       "Time:                        18:28:46   Log-Likelihood:                 8111.7\n",
       "No. Observations:                4080   AIC:                        -1.621e+04\n",
       "Df Residuals:                    4072   BIC:                        -1.616e+04\n",
       "Df Model:                           7                                         \n",
       "Covariance Type:            nonrobust                                         \n",
       "==============================================================================\n",
       "                 coef    std err          t      P>|t|      [0.025      0.975]\n",
       "------------------------------------------------------------------------------\n",
       "C3             0.2442      0.006     43.368      0.000       0.233       0.255\n",
       "C30            0.2227      0.008     29.426      0.000       0.208       0.238\n",
       "C60            0.2414      0.008     29.428      0.000       0.225       0.257\n",
       "Cogni          0.1306      0.002     66.157      0.000       0.127       0.134\n",
       "None           0.0960      0.004     24.037      0.000       0.088       0.104\n",
       "v_median      -0.0048   3.89e-05   -122.532      0.000      -0.005      -0.005\n",
       "v_mean         0.0038   4.58e-05     82.403      0.000       0.004       0.004\n",
       "v_total     1.527e-06   1.34e-07     11.401      0.000    1.26e-06    1.79e-06\n",
       "p_size      1.527e-06   1.34e-07     11.401      0.000    1.26e-06    1.79e-06\n",
       "==============================================================================\n",
       "Omnibus:                      726.681   Durbin-Watson:                   0.247\n",
       "Prob(Omnibus):                  0.000   Jarque-Bera (JB):              157.884\n",
       "Skew:                          -0.069   Prob(JB):                     5.20e-35\n",
       "Kurtosis:                       2.046   Cond. No.                     5.54e+16\n",
       "==============================================================================\n",
       "\n",
       "Warnings:\n",
       "[1] Standard Errors assume that the covariance matrix of the errors is correctly specified.\n",
       "[2] The smallest eigenvalue is  3e-23. This might indicate that there are\n",
       "strong multicollinearity problems or that the design matrix is singular.\n",
       "\"\"\""
      ]
     },
     "execution_count": 147,
     "metadata": {},
     "output_type": "execute_result"
    }
   ],
   "source": [
    "OLS(df_Y,df_X).fit().summary()"
   ]
  },
  {
   "cell_type": "code",
   "execution_count": 53,
   "metadata": {},
   "outputs": [
    {
     "data": {
      "text/html": [
       "<div>\n",
       "<style scoped>\n",
       "    .dataframe tbody tr th:only-of-type {\n",
       "        vertical-align: middle;\n",
       "    }\n",
       "\n",
       "    .dataframe tbody tr th {\n",
       "        vertical-align: top;\n",
       "    }\n",
       "\n",
       "    .dataframe thead th {\n",
       "        text-align: right;\n",
       "    }\n",
       "</style>\n",
       "<table border=\"1\" class=\"dataframe\">\n",
       "  <thead>\n",
       "    <tr style=\"text-align: right;\">\n",
       "      <th></th>\n",
       "      <th>C3</th>\n",
       "      <th>C30</th>\n",
       "      <th>C60</th>\n",
       "      <th>Cogni</th>\n",
       "      <th>Socio</th>\n",
       "      <th>None</th>\n",
       "      <th>v_median</th>\n",
       "      <th>v_mean</th>\n",
       "      <th>v_total</th>\n",
       "      <th>p_size</th>\n",
       "    </tr>\n",
       "  </thead>\n",
       "  <tbody>\n",
       "    <tr>\n",
       "      <td>0</td>\n",
       "      <td>1</td>\n",
       "      <td>0</td>\n",
       "      <td>0</td>\n",
       "      <td>0</td>\n",
       "      <td>0</td>\n",
       "      <td>1</td>\n",
       "      <td>121.0</td>\n",
       "      <td>125.5375</td>\n",
       "      <td>400</td>\n",
       "      <td>400</td>\n",
       "    </tr>\n",
       "    <tr>\n",
       "      <td>1</td>\n",
       "      <td>1</td>\n",
       "      <td>0</td>\n",
       "      <td>0</td>\n",
       "      <td>0</td>\n",
       "      <td>0</td>\n",
       "      <td>1</td>\n",
       "      <td>120.0</td>\n",
       "      <td>124.9750</td>\n",
       "      <td>400</td>\n",
       "      <td>400</td>\n",
       "    </tr>\n",
       "    <tr>\n",
       "      <td>2</td>\n",
       "      <td>1</td>\n",
       "      <td>0</td>\n",
       "      <td>0</td>\n",
       "      <td>0</td>\n",
       "      <td>0</td>\n",
       "      <td>1</td>\n",
       "      <td>119.0</td>\n",
       "      <td>125.4125</td>\n",
       "      <td>400</td>\n",
       "      <td>400</td>\n",
       "    </tr>\n",
       "    <tr>\n",
       "      <td>3</td>\n",
       "      <td>1</td>\n",
       "      <td>0</td>\n",
       "      <td>0</td>\n",
       "      <td>0</td>\n",
       "      <td>0</td>\n",
       "      <td>1</td>\n",
       "      <td>123.0</td>\n",
       "      <td>125.2075</td>\n",
       "      <td>400</td>\n",
       "      <td>400</td>\n",
       "    </tr>\n",
       "    <tr>\n",
       "      <td>4</td>\n",
       "      <td>1</td>\n",
       "      <td>0</td>\n",
       "      <td>0</td>\n",
       "      <td>0</td>\n",
       "      <td>0</td>\n",
       "      <td>1</td>\n",
       "      <td>122.0</td>\n",
       "      <td>124.6175</td>\n",
       "      <td>400</td>\n",
       "      <td>400</td>\n",
       "    </tr>\n",
       "    <tr>\n",
       "      <td>...</td>\n",
       "      <td>...</td>\n",
       "      <td>...</td>\n",
       "      <td>...</td>\n",
       "      <td>...</td>\n",
       "      <td>...</td>\n",
       "      <td>...</td>\n",
       "      <td>...</td>\n",
       "      <td>...</td>\n",
       "      <td>...</td>\n",
       "      <td>...</td>\n",
       "    </tr>\n",
       "    <tr>\n",
       "      <td>301</td>\n",
       "      <td>0</td>\n",
       "      <td>1</td>\n",
       "      <td>0</td>\n",
       "      <td>0</td>\n",
       "      <td>1</td>\n",
       "      <td>0</td>\n",
       "      <td>124.0</td>\n",
       "      <td>220.9765</td>\n",
       "      <td>2000</td>\n",
       "      <td>2000</td>\n",
       "    </tr>\n",
       "    <tr>\n",
       "      <td>302</td>\n",
       "      <td>0</td>\n",
       "      <td>1</td>\n",
       "      <td>0</td>\n",
       "      <td>0</td>\n",
       "      <td>1</td>\n",
       "      <td>0</td>\n",
       "      <td>125.0</td>\n",
       "      <td>220.7185</td>\n",
       "      <td>2000</td>\n",
       "      <td>2000</td>\n",
       "    </tr>\n",
       "    <tr>\n",
       "      <td>303</td>\n",
       "      <td>0</td>\n",
       "      <td>1</td>\n",
       "      <td>0</td>\n",
       "      <td>0</td>\n",
       "      <td>1</td>\n",
       "      <td>0</td>\n",
       "      <td>124.0</td>\n",
       "      <td>221.1590</td>\n",
       "      <td>2000</td>\n",
       "      <td>2000</td>\n",
       "    </tr>\n",
       "    <tr>\n",
       "      <td>304</td>\n",
       "      <td>0</td>\n",
       "      <td>1</td>\n",
       "      <td>0</td>\n",
       "      <td>0</td>\n",
       "      <td>1</td>\n",
       "      <td>0</td>\n",
       "      <td>123.0</td>\n",
       "      <td>220.8960</td>\n",
       "      <td>2000</td>\n",
       "      <td>2000</td>\n",
       "    </tr>\n",
       "    <tr>\n",
       "      <td>305</td>\n",
       "      <td>0</td>\n",
       "      <td>1</td>\n",
       "      <td>0</td>\n",
       "      <td>0</td>\n",
       "      <td>1</td>\n",
       "      <td>0</td>\n",
       "      <td>125.0</td>\n",
       "      <td>221.3755</td>\n",
       "      <td>2000</td>\n",
       "      <td>2000</td>\n",
       "    </tr>\n",
       "  </tbody>\n",
       "</table>\n",
       "<p>4080 rows × 10 columns</p>\n",
       "</div>"
      ],
      "text/plain": [
       "     C3  C30  C60  Cogni  Socio  None  v_median    v_mean  v_total  p_size\n",
       "0     1    0    0      0      0     1     121.0  125.5375      400     400\n",
       "1     1    0    0      0      0     1     120.0  124.9750      400     400\n",
       "2     1    0    0      0      0     1     119.0  125.4125      400     400\n",
       "3     1    0    0      0      0     1     123.0  125.2075      400     400\n",
       "4     1    0    0      0      0     1     122.0  124.6175      400     400\n",
       "..   ..  ...  ...    ...    ...   ...       ...       ...      ...     ...\n",
       "301   0    1    0      0      1     0     124.0  220.9765     2000    2000\n",
       "302   0    1    0      0      1     0     125.0  220.7185     2000    2000\n",
       "303   0    1    0      0      1     0     124.0  221.1590     2000    2000\n",
       "304   0    1    0      0      1     0     123.0  220.8960     2000    2000\n",
       "305   0    1    0      0      1     0     125.0  221.3755     2000    2000\n",
       "\n",
       "[4080 rows x 10 columns]"
      ]
     },
     "execution_count": 53,
     "metadata": {},
     "output_type": "execute_result"
    }
   ],
   "source": [
    "df_X"
   ]
  },
  {
   "cell_type": "code",
   "execution_count": 54,
   "metadata": {},
   "outputs": [
    {
     "name": "stdout",
     "output_type": "stream",
     "text": [
      "Intercept: \n",
      " 0.3116423186034617\n",
      "Coefficients: \n",
      " [ 8.12540694e-03 -1.33715883e-02  5.24618134e-03  5.50962320e-02\n",
      " -7.55315344e-02  2.04353023e-02 -4.76181699e-03  3.77022388e-03\n",
      "  1.52660318e-06  1.52660318e-06]\n"
     ]
    }
   ],
   "source": [
    "regr = linear_model.LinearRegression()\n",
    "regr.fit(df_X, df_Y)\n",
    "print('Intercept: \\n', regr.intercept_)\n",
    "print('Coefficients: \\n', regr.coef_)\n"
   ]
  },
  {
   "cell_type": "code",
   "execution_count": 67,
   "metadata": {},
   "outputs": [
    {
     "data": {
      "text/html": [
       "<table class=\"simpletable\">\n",
       "<caption>OLS Regression Results</caption>\n",
       "<tr>\n",
       "  <th>Dep. Variable:</th>         <td>v_gini</td>      <th>  R-squared:         </th>  <td>   0.966</td> \n",
       "</tr>\n",
       "<tr>\n",
       "  <th>Model:</th>                   <td>OLS</td>       <th>  Adj. R-squared:    </th>  <td>   0.966</td> \n",
       "</tr>\n",
       "<tr>\n",
       "  <th>Method:</th>             <td>Least Squares</td>  <th>  F-statistic:       </th>  <td>1.648e+04</td>\n",
       "</tr>\n",
       "<tr>\n",
       "  <th>Date:</th>             <td>Fri, 03 Apr 2020</td> <th>  Prob (F-statistic):</th>   <td>  0.00</td>  \n",
       "</tr>\n",
       "<tr>\n",
       "  <th>Time:</th>                 <td>10:27:40</td>     <th>  Log-Likelihood:    </th>  <td>  8111.7</td> \n",
       "</tr>\n",
       "<tr>\n",
       "  <th>No. Observations:</th>      <td>  4080</td>      <th>  AIC:               </th> <td>-1.621e+04</td>\n",
       "</tr>\n",
       "<tr>\n",
       "  <th>Df Residuals:</th>          <td>  4072</td>      <th>  BIC:               </th> <td>-1.616e+04</td>\n",
       "</tr>\n",
       "<tr>\n",
       "  <th>Df Model:</th>              <td>     7</td>      <th>                     </th>      <td> </td>    \n",
       "</tr>\n",
       "<tr>\n",
       "  <th>Covariance Type:</th>      <td>nonrobust</td>    <th>                     </th>      <td> </td>    \n",
       "</tr>\n",
       "</table>\n",
       "<table class=\"simpletable\">\n",
       "<tr>\n",
       "      <td></td>        <th>coef</th>     <th>std err</th>      <th>t</th>      <th>P>|t|</th>  <th>[0.025</th>    <th>0.975]</th>  \n",
       "</tr>\n",
       "<tr>\n",
       "  <th>C3</th>       <td>    0.2442</td> <td>    0.006</td> <td>   43.368</td> <td> 0.000</td> <td>    0.233</td> <td>    0.255</td>\n",
       "</tr>\n",
       "<tr>\n",
       "  <th>C30</th>      <td>    0.2227</td> <td>    0.008</td> <td>   29.426</td> <td> 0.000</td> <td>    0.208</td> <td>    0.238</td>\n",
       "</tr>\n",
       "<tr>\n",
       "  <th>C60</th>      <td>    0.2414</td> <td>    0.008</td> <td>   29.428</td> <td> 0.000</td> <td>    0.225</td> <td>    0.257</td>\n",
       "</tr>\n",
       "<tr>\n",
       "  <th>Cogni</th>    <td>    0.1306</td> <td>    0.002</td> <td>   66.157</td> <td> 0.000</td> <td>    0.127</td> <td>    0.134</td>\n",
       "</tr>\n",
       "<tr>\n",
       "  <th>None</th>     <td>    0.0960</td> <td>    0.004</td> <td>   24.037</td> <td> 0.000</td> <td>    0.088</td> <td>    0.104</td>\n",
       "</tr>\n",
       "<tr>\n",
       "  <th>v_median</th> <td>   -0.0048</td> <td> 3.89e-05</td> <td> -122.532</td> <td> 0.000</td> <td>   -0.005</td> <td>   -0.005</td>\n",
       "</tr>\n",
       "<tr>\n",
       "  <th>v_mean</th>   <td>    0.0038</td> <td> 4.58e-05</td> <td>   82.403</td> <td> 0.000</td> <td>    0.004</td> <td>    0.004</td>\n",
       "</tr>\n",
       "<tr>\n",
       "  <th>v_total</th>  <td> 1.527e-06</td> <td> 1.34e-07</td> <td>   11.401</td> <td> 0.000</td> <td> 1.26e-06</td> <td> 1.79e-06</td>\n",
       "</tr>\n",
       "<tr>\n",
       "  <th>p_size</th>   <td> 1.527e-06</td> <td> 1.34e-07</td> <td>   11.401</td> <td> 0.000</td> <td> 1.26e-06</td> <td> 1.79e-06</td>\n",
       "</tr>\n",
       "</table>\n",
       "<table class=\"simpletable\">\n",
       "<tr>\n",
       "  <th>Omnibus:</th>       <td>726.681</td> <th>  Durbin-Watson:     </th> <td>   0.247</td>\n",
       "</tr>\n",
       "<tr>\n",
       "  <th>Prob(Omnibus):</th> <td> 0.000</td>  <th>  Jarque-Bera (JB):  </th> <td> 157.884</td>\n",
       "</tr>\n",
       "<tr>\n",
       "  <th>Skew:</th>          <td>-0.069</td>  <th>  Prob(JB):          </th> <td>5.20e-35</td>\n",
       "</tr>\n",
       "<tr>\n",
       "  <th>Kurtosis:</th>      <td> 2.046</td>  <th>  Cond. No.          </th> <td>5.46e+16</td>\n",
       "</tr>\n",
       "</table><br/><br/>Warnings:<br/>[1] Standard Errors assume that the covariance matrix of the errors is correctly specified.<br/>[2] The smallest eigenvalue is 3.09e-23. This might indicate that there are<br/>strong multicollinearity problems or that the design matrix is singular."
      ],
      "text/plain": [
       "<class 'statsmodels.iolib.summary.Summary'>\n",
       "\"\"\"\n",
       "                            OLS Regression Results                            \n",
       "==============================================================================\n",
       "Dep. Variable:                 v_gini   R-squared:                       0.966\n",
       "Model:                            OLS   Adj. R-squared:                  0.966\n",
       "Method:                 Least Squares   F-statistic:                 1.648e+04\n",
       "Date:                Fri, 03 Apr 2020   Prob (F-statistic):               0.00\n",
       "Time:                        10:27:40   Log-Likelihood:                 8111.7\n",
       "No. Observations:                4080   AIC:                        -1.621e+04\n",
       "Df Residuals:                    4072   BIC:                        -1.616e+04\n",
       "Df Model:                           7                                         \n",
       "Covariance Type:            nonrobust                                         \n",
       "==============================================================================\n",
       "                 coef    std err          t      P>|t|      [0.025      0.975]\n",
       "------------------------------------------------------------------------------\n",
       "C3             0.2442      0.006     43.368      0.000       0.233       0.255\n",
       "C30            0.2227      0.008     29.426      0.000       0.208       0.238\n",
       "C60            0.2414      0.008     29.428      0.000       0.225       0.257\n",
       "Cogni          0.1306      0.002     66.157      0.000       0.127       0.134\n",
       "None           0.0960      0.004     24.037      0.000       0.088       0.104\n",
       "v_median      -0.0048   3.89e-05   -122.532      0.000      -0.005      -0.005\n",
       "v_mean         0.0038   4.58e-05     82.403      0.000       0.004       0.004\n",
       "v_total     1.527e-06   1.34e-07     11.401      0.000    1.26e-06    1.79e-06\n",
       "p_size      1.527e-06   1.34e-07     11.401      0.000    1.26e-06    1.79e-06\n",
       "==============================================================================\n",
       "Omnibus:                      726.681   Durbin-Watson:                   0.247\n",
       "Prob(Omnibus):                  0.000   Jarque-Bera (JB):              157.884\n",
       "Skew:                          -0.069   Prob(JB):                     5.20e-35\n",
       "Kurtosis:                       2.046   Cond. No.                     5.46e+16\n",
       "==============================================================================\n",
       "\n",
       "Warnings:\n",
       "[1] Standard Errors assume that the covariance matrix of the errors is correctly specified.\n",
       "[2] The smallest eigenvalue is 3.09e-23. This might indicate that there are\n",
       "strong multicollinearity problems or that the design matrix is singular.\n",
       "\"\"\""
      ]
     },
     "execution_count": 67,
     "metadata": {},
     "output_type": "execute_result"
    }
   ],
   "source": [
    "OLS(df_Y,df_X).fit().summary()"
   ]
  },
  {
   "cell_type": "code",
   "execution_count": 62,
   "metadata": {},
   "outputs": [],
   "source": [
    "#Lets try without the inclusion of the Sociological filter\n",
    "\n",
    "df_X = df_X.drop('Socio',1)"
   ]
  },
  {
   "cell_type": "code",
   "execution_count": 63,
   "metadata": {},
   "outputs": [
    {
     "data": {
      "text/html": [
       "<div>\n",
       "<style scoped>\n",
       "    .dataframe tbody tr th:only-of-type {\n",
       "        vertical-align: middle;\n",
       "    }\n",
       "\n",
       "    .dataframe tbody tr th {\n",
       "        vertical-align: top;\n",
       "    }\n",
       "\n",
       "    .dataframe thead th {\n",
       "        text-align: right;\n",
       "    }\n",
       "</style>\n",
       "<table border=\"1\" class=\"dataframe\">\n",
       "  <thead>\n",
       "    <tr style=\"text-align: right;\">\n",
       "      <th></th>\n",
       "      <th>C3</th>\n",
       "      <th>C30</th>\n",
       "      <th>C60</th>\n",
       "      <th>Cogni</th>\n",
       "      <th>None</th>\n",
       "      <th>v_median</th>\n",
       "      <th>v_mean</th>\n",
       "      <th>v_total</th>\n",
       "      <th>p_size</th>\n",
       "    </tr>\n",
       "  </thead>\n",
       "  <tbody>\n",
       "    <tr>\n",
       "      <td>0</td>\n",
       "      <td>1</td>\n",
       "      <td>0</td>\n",
       "      <td>0</td>\n",
       "      <td>0</td>\n",
       "      <td>1</td>\n",
       "      <td>121.0</td>\n",
       "      <td>125.5375</td>\n",
       "      <td>400</td>\n",
       "      <td>400</td>\n",
       "    </tr>\n",
       "    <tr>\n",
       "      <td>1</td>\n",
       "      <td>1</td>\n",
       "      <td>0</td>\n",
       "      <td>0</td>\n",
       "      <td>0</td>\n",
       "      <td>1</td>\n",
       "      <td>120.0</td>\n",
       "      <td>124.9750</td>\n",
       "      <td>400</td>\n",
       "      <td>400</td>\n",
       "    </tr>\n",
       "    <tr>\n",
       "      <td>2</td>\n",
       "      <td>1</td>\n",
       "      <td>0</td>\n",
       "      <td>0</td>\n",
       "      <td>0</td>\n",
       "      <td>1</td>\n",
       "      <td>119.0</td>\n",
       "      <td>125.4125</td>\n",
       "      <td>400</td>\n",
       "      <td>400</td>\n",
       "    </tr>\n",
       "    <tr>\n",
       "      <td>3</td>\n",
       "      <td>1</td>\n",
       "      <td>0</td>\n",
       "      <td>0</td>\n",
       "      <td>0</td>\n",
       "      <td>1</td>\n",
       "      <td>123.0</td>\n",
       "      <td>125.2075</td>\n",
       "      <td>400</td>\n",
       "      <td>400</td>\n",
       "    </tr>\n",
       "    <tr>\n",
       "      <td>4</td>\n",
       "      <td>1</td>\n",
       "      <td>0</td>\n",
       "      <td>0</td>\n",
       "      <td>0</td>\n",
       "      <td>1</td>\n",
       "      <td>122.0</td>\n",
       "      <td>124.6175</td>\n",
       "      <td>400</td>\n",
       "      <td>400</td>\n",
       "    </tr>\n",
       "    <tr>\n",
       "      <td>...</td>\n",
       "      <td>...</td>\n",
       "      <td>...</td>\n",
       "      <td>...</td>\n",
       "      <td>...</td>\n",
       "      <td>...</td>\n",
       "      <td>...</td>\n",
       "      <td>...</td>\n",
       "      <td>...</td>\n",
       "      <td>...</td>\n",
       "    </tr>\n",
       "    <tr>\n",
       "      <td>301</td>\n",
       "      <td>0</td>\n",
       "      <td>1</td>\n",
       "      <td>0</td>\n",
       "      <td>0</td>\n",
       "      <td>0</td>\n",
       "      <td>124.0</td>\n",
       "      <td>220.9765</td>\n",
       "      <td>2000</td>\n",
       "      <td>2000</td>\n",
       "    </tr>\n",
       "    <tr>\n",
       "      <td>302</td>\n",
       "      <td>0</td>\n",
       "      <td>1</td>\n",
       "      <td>0</td>\n",
       "      <td>0</td>\n",
       "      <td>0</td>\n",
       "      <td>125.0</td>\n",
       "      <td>220.7185</td>\n",
       "      <td>2000</td>\n",
       "      <td>2000</td>\n",
       "    </tr>\n",
       "    <tr>\n",
       "      <td>303</td>\n",
       "      <td>0</td>\n",
       "      <td>1</td>\n",
       "      <td>0</td>\n",
       "      <td>0</td>\n",
       "      <td>0</td>\n",
       "      <td>124.0</td>\n",
       "      <td>221.1590</td>\n",
       "      <td>2000</td>\n",
       "      <td>2000</td>\n",
       "    </tr>\n",
       "    <tr>\n",
       "      <td>304</td>\n",
       "      <td>0</td>\n",
       "      <td>1</td>\n",
       "      <td>0</td>\n",
       "      <td>0</td>\n",
       "      <td>0</td>\n",
       "      <td>123.0</td>\n",
       "      <td>220.8960</td>\n",
       "      <td>2000</td>\n",
       "      <td>2000</td>\n",
       "    </tr>\n",
       "    <tr>\n",
       "      <td>305</td>\n",
       "      <td>0</td>\n",
       "      <td>1</td>\n",
       "      <td>0</td>\n",
       "      <td>0</td>\n",
       "      <td>0</td>\n",
       "      <td>125.0</td>\n",
       "      <td>221.3755</td>\n",
       "      <td>2000</td>\n",
       "      <td>2000</td>\n",
       "    </tr>\n",
       "  </tbody>\n",
       "</table>\n",
       "<p>4080 rows × 9 columns</p>\n",
       "</div>"
      ],
      "text/plain": [
       "     C3  C30  C60  Cogni  None  v_median    v_mean  v_total  p_size\n",
       "0     1    0    0      0     1     121.0  125.5375      400     400\n",
       "1     1    0    0      0     1     120.0  124.9750      400     400\n",
       "2     1    0    0      0     1     119.0  125.4125      400     400\n",
       "3     1    0    0      0     1     123.0  125.2075      400     400\n",
       "4     1    0    0      0     1     122.0  124.6175      400     400\n",
       "..   ..  ...  ...    ...   ...       ...       ...      ...     ...\n",
       "301   0    1    0      0     0     124.0  220.9765     2000    2000\n",
       "302   0    1    0      0     0     125.0  220.7185     2000    2000\n",
       "303   0    1    0      0     0     124.0  221.1590     2000    2000\n",
       "304   0    1    0      0     0     123.0  220.8960     2000    2000\n",
       "305   0    1    0      0     0     125.0  221.3755     2000    2000\n",
       "\n",
       "[4080 rows x 9 columns]"
      ]
     },
     "execution_count": 63,
     "metadata": {},
     "output_type": "execute_result"
    }
   ],
   "source": [
    "df_X"
   ]
  },
  {
   "cell_type": "code",
   "execution_count": 59,
   "metadata": {},
   "outputs": [],
   "source": [
    "cg1 = get_gini(cdf11)\n",
    "cg2 = get_gini(cdf22)\n",
    "cg3 = get_gini(cdf33)"
   ]
  },
  {
   "cell_type": "code",
   "execution_count": 60,
   "metadata": {},
   "outputs": [
    {
     "name": "stderr",
     "output_type": "stream",
     "text": [
      "C:\\Users\\ELHuillier\\AppData\\Local\\Continuum\\anaconda3\\lib\\site-packages\\numpy\\core\\fromnumeric.py:3118: RuntimeWarning: Mean of empty slice.\n",
      "  out=out, **kwargs)\n",
      "C:\\Users\\ELHuillier\\AppData\\Local\\Continuum\\anaconda3\\lib\\site-packages\\numpy\\core\\_methods.py:85: RuntimeWarning: invalid value encountered in double_scalars\n",
      "  ret = ret.dtype.type(ret / rcount)\n"
     ]
    },
    {
     "data": {
      "image/png": "[encoded data removed]",
      "text/plain": [
       "<Figure size 432x432 with 3 Axes>"
      ]
     },
     "metadata": {
      "needs_background": "light"
     },
     "output_type": "display_data"
    },
    {
     "data": {
      "image/png": "[encoded data removed]",
      "text/plain": [
       "<Figure size 432x288 with 1 Axes>"
      ]
     },
     "metadata": {
      "needs_background": "light"
     },
     "output_type": "display_data"
    },
    {
     "data": {
      "image/png": "[encoded data removed]",
      "text/plain": [
       "<Figure size 432x288 with 1 Axes>"
      ]
     },
     "metadata": {
      "needs_background": "light"
     },
     "output_type": "display_data"
    }
   ],
   "source": [
    "cdf1 = get_basics(cdf11)"
   ]
  },
  {
   "cell_type": "code",
   "execution_count": null,
   "metadata": {},
   "outputs": [],
   "source": [
    "df1"
   ]
  },
  {
   "cell_type": "code",
   "execution_count": 27,
   "metadata": {},
   "outputs": [
    {
     "data": {
      "image/png": "[encoded data removed]",
      "text/plain": [
       "<Figure size 432x432 with 3 Axes>"
      ]
     },
     "metadata": {
      "needs_background": "light"
     },
     "output_type": "display_data"
    },
    {
     "data": {
      "image/png": "[encoded data removed]",
      "text/plain": [
       "<Figure size 432x288 with 1 Axes>"
      ]
     },
     "metadata": {
      "needs_background": "light"
     },
     "output_type": "display_data"
    },
    {
     "data": {
      "image/png": "[encoded data removed]",
      "text/plain": [
       "<Figure size 432x288 with 1 Axes>"
      ]
     },
     "metadata": {
      "needs_background": "light"
     },
     "output_type": "display_data"
    }
   ],
   "source": [
    "df2 = get_basics(df22)"
   ]
  },
  {
   "cell_type": "code",
   "execution_count": 28,
   "metadata": {},
   "outputs": [
    {
     "data": {
      "image/png": "[encoded data removed]",
      "text/plain": [
       "<Figure size 432x432 with 3 Axes>"
      ]
     },
     "metadata": {
      "needs_background": "light"
     },
     "output_type": "display_data"
    },
    {
     "data": {
      "image/png": "[encoded data removed]",
      "text/plain": [
       "<Figure size 432x288 with 1 Axes>"
      ]
     },
     "metadata": {
      "needs_background": "light"
     },
     "output_type": "display_data"
    },
    {
     "data": {
      "image/png": "[encoded data removed]",
      "text/plain": [
       "<Figure size 432x288 with 1 Axes>"
      ]
     },
     "metadata": {
      "needs_background": "light"
     },
     "output_type": "display_data"
    }
   ],
   "source": [
    "df3 = get_basics(df33)"
   ]
  },
  {
   "cell_type": "code",
   "execution_count": 33,
   "metadata": {},
   "outputs": [
    {
     "data": {
      "text/plain": [
       "[<matplotlib.lines.Line2D at 0x1a693df4908>]"
      ]
     },
     "execution_count": 33,
     "metadata": {},
     "output_type": "execute_result"
    },
    {
     "data": {
      "image/png": "[encoded data removed]",
      "text/plain": [
       "<Figure size 432x288 with 1 Axes>"
      ]
     },
     "metadata": {
      "needs_background": "light"
     },
     "output_type": "display_data"
    }
   ],
   "source": [
    "plt.plot(list(df.views))\n",
    "plt.plot(list(df2.views))\n",
    "plt.plot(list(df3.views))\n"
   ]
  },
  {
   "cell_type": "code",
   "execution_count": 6,
   "metadata": {},
   "outputs": [],
   "source": [
    "def G(v):\n",
    "    bins = np.linspace(0., 100., 11)\n",
    "    total = float(np.sum(v))\n",
    "    yvals = []\n",
    "    for b in bins:\n",
    "        bin_vals = v[v <= np.percentile(v, b)]\n",
    "        bin_fraction = (np.sum(bin_vals) / total) * 100.0\n",
    "        yvals.append(bin_fraction)\n",
    "    # perfect equality area\n",
    "    pe_area = np.trapz(bins, x=bins)\n",
    "    # lorenz area\n",
    "    lorenz_area = np.trapz(yvals, x=bins)\n",
    "    gini_val = (pe_area - lorenz_area) / float(pe_area)\n",
    "    return bins, yvals, gini_val\n",
    "\n",
    "def plot_gini(v):\n",
    "    bins, result, gini_val = G(v)\n",
    "    plt.figure()\n",
    "    plt.subplot(2, 1, 1)\n",
    "    plt.plot(bins, result, label=\"observed\")\n",
    "    plt.plot(bins, bins, '--', label=\"perfect eq.\")\n",
    "    plt.xlabel(\"fraction of population\")\n",
    "    plt.ylabel(\"fraction of wealth\")\n",
    "    plt.title(\"GINI: %.4f\" %(gini_val))\n",
    "    plt.legend()\n",
    "    plt.subplot(2, 1, 2)\n",
    "    plt.hist(v, bins=20)"
   ]
  },
  {
   "cell_type": "code",
   "execution_count": 13,
   "metadata": {},
   "outputs": [
    {
     "data": {
      "text/plain": [
       "0.20554719387365095"
      ]
     },
     "execution_count": 13,
     "metadata": {},
     "output_type": "execute_result"
    }
   ],
   "source": [
    "G(df1.views)[-1]"
   ]
  },
  {
   "cell_type": "code",
   "execution_count": 31,
   "metadata": {},
   "outputs": [],
   "source": [
    "views_sim = {}\n",
    "id_ = 0\n",
    "for vals in df11.values:\n",
    "        t_views = []\n",
    "        for i in vals:\n",
    "            t_views.append(len(i))\n",
    "        views_sim[id_] = t_views\n",
    "        id_ += 1\n",
    "            "
   ]
  },
  {
   "cell_type": "code",
   "execution_count": 32,
   "metadata": {},
   "outputs": [],
   "source": [
    "gini = [G(np.array(views_sim[k]))[-1] for k in range(0,len(df11))]"
   ]
  },
  {
   "cell_type": "code",
   "execution_count": 33,
   "metadata": {},
   "outputs": [
    {
     "data": {
      "text/plain": [
       "[0.2077968790053832,\n",
       " 0.20532536329300302,\n",
       " 0.20623247341551687,\n",
       " 0.2061027093890907,\n",
       " 0.20692321237053984,\n",
       " 0.20588122360168953,\n",
       " 0.2025967694238192,\n",
       " 0.1999543400942036,\n",
       " 0.2082715495844609,\n",
       " 0.2057965906177903,\n",
       " 0.21142166598865714,\n",
       " 0.19532872939204027,\n",
       " 0.20922331651853637,\n",
       " 0.2039480111793582,\n",
       " 0.21055226667092183,\n",
       " 0.20977845500889533,\n",
       " 0.20677327562021564,\n",
       " 0.19481176969280115,\n",
       " 0.202342772842436,\n",
       " 0.20168859281269724,\n",
       " 0.2083650917672572,\n",
       " 0.21060547997700704,\n",
       " 0.20713898758783325,\n",
       " 0.20678279377170375,\n",
       " 0.2056677080829929,\n",
       " 0.20789941254622,\n",
       " 0.21099448311255092,\n",
       " 0.20372154604476073,\n",
       " 0.20691051068314645,\n",
       " 0.1953661752367254,\n",
       " 0.2078450955169741,\n",
       " 0.20326193028203943,\n",
       " 0.20949884336153554,\n",
       " 0.205343657852468,\n",
       " 0.20594923046172298,\n",
       " 0.20932089905299536,\n",
       " 0.20549420673442137,\n",
       " 0.2118934797573118,\n",
       " 0.20201114727355599,\n",
       " 0.20807160904467964,\n",
       " 0.2077933702010677,\n",
       " 0.21106978080748412,\n",
       " 0.20492710106297563,\n",
       " 0.20758378128339683,\n",
       " 0.2067459019662585,\n",
       " 0.20935750061909383,\n",
       " 0.2077681756158284,\n",
       " 0.20646130549135241,\n",
       " 0.2145230636447911,\n",
       " 0.2107848316045588,\n",
       " 0.20631505676590367,\n",
       " 0.20309514100442155,\n",
       " 0.21571804414784393,\n",
       " 0.20738120279185387,\n",
       " 0.2043214907864666,\n",
       " 0.2054700540695958,\n",
       " 0.2125591011812223,\n",
       " 0.21183484548796014,\n",
       " 0.20990431236553958,\n",
       " 0.20311232797982048,\n",
       " 0.2030817801567334,\n",
       " 0.21505353165193647,\n",
       " 0.2101698716151819,\n",
       " 0.2044061057976336,\n",
       " 0.20053755269536278,\n",
       " 0.20432668508375518,\n",
       " 0.20575674724993595,\n",
       " 0.19768168168168176,\n",
       " 0.20197459408900867,\n",
       " 0.20956906307940507,\n",
       " 0.2091858620167277,\n",
       " 0.20208940407954143,\n",
       " 0.20804120245870145,\n",
       " 0.216110413852094,\n",
       " 0.2065354771618271,\n",
       " 0.2090850294237418,\n",
       " 0.19859111082729333,\n",
       " 0.20129766036405025,\n",
       " 0.21079988195978658,\n",
       " 0.20721900505402435,\n",
       " 0.21372170204578989,\n",
       " 0.20269390764890233,\n",
       " 0.20478355707389057,\n",
       " 0.20416979294711135,\n",
       " 0.21141511026781046,\n",
       " 0.20739756632754833,\n",
       " 0.20776493348682534,\n",
       " 0.21080838155159817,\n",
       " 0.2113714701577883,\n",
       " 0.20778701630956192,\n",
       " 0.20393983037285962,\n",
       " 0.20346253850154009,\n",
       " 0.21135560141415108,\n",
       " 0.2064755115934484,\n",
       " 0.21117300131061603,\n",
       " 0.20888894210812015,\n",
       " 0.20415908999879848,\n",
       " 0.2037648734506405,\n",
       " 0.2123875040853255,\n",
       " 0.20579341461073244,\n",
       " 0.2112510508827414,\n",
       " 0.20633886682065578]"
      ]
     },
     "execution_count": 33,
     "metadata": {},
     "output_type": "execute_result"
    }
   ],
   "source": [
    "gini"
   ]
  },
  {
   "cell_type": "code",
   "execution_count": 10,
   "metadata": {},
   "outputs": [
    {
     "name": "stdout",
     "output_type": "stream",
     "text": [
      "0\n",
      "0\n"
     ]
    },
    {
     "data": {
      "image/png": "[encoded data removed]",
      "text/plain": [
       "<Figure size 432x288 with 1 Axes>"
      ]
     },
     "metadata": {
      "needs_background": "light"
     },
     "output_type": "display_data"
    },
    {
     "data": {
      "image/png": "[encoded data removed]",
      "text/plain": [
       "<Figure size 432x288 with 1 Axes>"
      ]
     },
     "metadata": {
      "needs_background": "light"
     },
     "output_type": "display_data"
    }
   ],
   "source": [
    "top10_r = get_parameter_filter(ifilter,0,df)\n",
    "top10_r = clean_values(top10_r)\n",
    "top10_r.sort(reverse=True)\n",
    "\n",
    "none_r = get_parameter_filter(ifilter,0,df)\n",
    "none_r = clean_values(none_r)\n",
    "none_r.sort(reverse=True)\n",
    "\n",
    "top10_r = [i for i in top10_r if i < 400]\n",
    "plt.title('Top10 Distribution')\n",
    "plt.hist(top10_r,bins=100)\n",
    "plt.show()\n",
    "\n",
    "plt.title('None Distribution')\n",
    "plt.hist(none_r,bins=100)\n",
    "plt.show()"
   ]
  },
  {
   "cell_type": "markdown",
   "metadata": {},
   "source": [
    "# Views"
   ]
  },
  {
   "cell_type": "code",
   "execution_count": 75,
   "metadata": {},
   "outputs": [
    {
     "data": {
      "image/png": "[encoded data removed]",
      "text/plain": [
       "<Figure size 432x288 with 1 Axes>"
      ]
     },
     "metadata": {
      "needs_background": "light"
     },
     "output_type": "display_data"
    },
    {
     "data": {
      "image/png": "[encoded data removed]",
      "text/plain": [
       "<Figure size 432x288 with 1 Axes>"
      ]
     },
     "metadata": {
      "needs_background": "light"
     },
     "output_type": "display_data"
    },
    {
     "data": {
      "image/png": "[encoded data removed]",
      "text/plain": [
       "<Figure size 432x288 with 1 Axes>"
      ]
     },
     "metadata": {
      "needs_background": "light"
     },
     "output_type": "display_data"
    }
   ],
   "source": [
    "top10_v = get_parameter_filter(ifilter,1,df_top10)\n",
    "top10_v.sort(reverse=True)\n",
    "\n",
    "none_v = get_parameter_filter(ifilter,1,df_none)\n",
    "none_v.sort(reverse=True)\n",
    "\n",
    "plt.title('Top10 Distribution')\n",
    "plt.hist(top10_v,bins=100)\n",
    "plt.show()\n",
    "\n",
    "plt.title('None Distribution')\n",
    "plt.hist(none_v,bins=100)\n",
    "plt.show()\n",
    "\n",
    "none_v.sort(reverse=True)\n",
    "top10_v.sort(reverse=True)\n",
    "plt.plot(none_v,label='None',c='b')\n",
    "plt.plot(top10_v,label='None',c='r')\n",
    "plt.title('Views rank-size')\n",
    "plt.show()"
   ]
  },
  {
   "cell_type": "markdown",
   "metadata": {},
   "source": [
    "# T-test before Views ranking fix."
   ]
  },
  {
   "cell_type": "code",
   "execution_count": 69,
   "metadata": {},
   "outputs": [],
   "source": [
    "#For Ratings\n",
    "var10 = np.var(top10_r)\n",
    "varN = np.var(none_r)"
   ]
  },
  {
   "cell_type": "code",
   "execution_count": 70,
   "metadata": {},
   "outputs": [
    {
     "data": {
      "text/plain": [
       "(3412.9609159084025, 60354.49047292651)"
      ]
     },
     "execution_count": 70,
     "metadata": {},
     "output_type": "execute_result"
    }
   ],
   "source": [
    "var10, varN"
   ]
  },
  {
   "cell_type": "code",
   "execution_count": 71,
   "metadata": {},
   "outputs": [
    {
     "data": {
      "text/plain": [
       "Ttest_indResult(statistic=-1.1689897066292625, pvalue=0.2424328103853359)"
      ]
     },
     "execution_count": 71,
     "metadata": {},
     "output_type": "execute_result"
    }
   ],
   "source": [
    "#Then, calculate T-test for two independent sasmples, identical variances.\n",
    "stats.ttest_ind(none_r,top10_r,axis=0,equal_var=False)"
   ]
  },
  {
   "cell_type": "code",
   "execution_count": 72,
   "metadata": {},
   "outputs": [],
   "source": [
    "from scipy import stats"
   ]
  },
  {
   "cell_type": "code",
   "execution_count": null,
   "metadata": {},
   "outputs": [],
   "source": []
  }
 ],
 "metadata": {
  "kernelspec": {
   "display_name": "Python 3",
   "language": "python",
   "name": "python3"
  },
  "language_info": {
   "codemirror_mode": {
    "name": "ipython",
    "version": 3
   },
   "file_extension": ".py",
   "mimetype": "text/x-python",
   "name": "python",
   "nbconvert_exporter": "python",
   "pygments_lexer": "ipython3",
   "version": "3.7.6"
  }
 },
 "nbformat": 4,
 "nbformat_minor": 2
}
